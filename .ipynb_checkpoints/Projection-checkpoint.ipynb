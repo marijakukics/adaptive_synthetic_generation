{
 "cells": [
  {
   "cell_type": "code",
   "execution_count": 10,
   "metadata": {},
   "outputs": [],
   "source": [
    "import numpy as np\n",
    "import pandas as pd\n",
    "import seaborn as sns\n",
    "import matplotlib.pyplot as plt\n",
    "from utils.age_category import age_category, age_mother_cat\n",
    "from utils.drawing import discrete_inverse_trans, \\\n",
    "    transform_into_marginals_clean, DFconditional\n",
    "from utils.statistical_assessments import stats_assessment\n",
    "from joblib import Parallel, delayed, cpu_count\n",
    "import matplotlib\n",
    "import warnings\n",
    "from plotly.subplots import make_subplots\n",
    "import plotly.express as px\n",
    "import plotly.graph_objects as go\n",
    "import pickle\n",
    "from datetime import datetime\n",
    "import os\n",
    "from utils.drawing import discrete_inverse_trans, \\\n",
    "    transform_into_marginals_clean, DFconditional\n",
    "import time\n",
    "warnings.filterwarnings(\"ignore\")"
   ]
  },
  {
   "cell_type": "markdown",
   "metadata": {},
   "source": [
    "# Projection as post-processing"
   ]
  },
  {
   "cell_type": "code",
   "execution_count": 11,
   "metadata": {},
   "outputs": [],
   "source": [
    "synthetic_2010_with_age = pd.read_csv(\"data/synthetic_2010_with_age.csv\")\n",
    "\n",
    "reference_data_2015 = pd.read_csv(\"data/household_full.csv\")#this should be real data, but we use synthetic ones due to privacy concerns\n",
    "\n",
    "reference_data_2015_indiv = pd.read_csv(\"data/synthetic_individuals.csv\") #here the same"
   ]
  },
  {
   "cell_type": "code",
   "execution_count": 12,
   "metadata": {},
   "outputs": [
    {
     "data": {
      "text/html": [
       "<div>\n",
       "<style scoped>\n",
       "    .dataframe tbody tr th:only-of-type {\n",
       "        vertical-align: middle;\n",
       "    }\n",
       "\n",
       "    .dataframe tbody tr th {\n",
       "        vertical-align: top;\n",
       "    }\n",
       "\n",
       "    .dataframe thead th {\n",
       "        text-align: right;\n",
       "    }\n",
       "</style>\n",
       "<table border=\"1\" class=\"dataframe\">\n",
       "  <thead>\n",
       "    <tr style=\"text-align: right;\">\n",
       "      <th></th>\n",
       "      <th>hid</th>\n",
       "      <th>htype</th>\n",
       "      <th>nbcars_agg</th>\n",
       "      <th>hsize</th>\n",
       "      <th>age_discrete</th>\n",
       "      <th>gender</th>\n",
       "      <th>marital_status</th>\n",
       "      <th>employment</th>\n",
       "      <th>driving_licence</th>\n",
       "      <th>age</th>\n",
       "      <th>role</th>\n",
       "      <th>nind</th>\n",
       "    </tr>\n",
       "  </thead>\n",
       "  <tbody>\n",
       "    <tr>\n",
       "      <th>0</th>\n",
       "      <td>0</td>\n",
       "      <td>10</td>\n",
       "      <td>1</td>\n",
       "      <td>1</td>\n",
       "      <td>5</td>\n",
       "      <td>2</td>\n",
       "      <td>4</td>\n",
       "      <td>4</td>\n",
       "      <td>1</td>\n",
       "      <td>55</td>\n",
       "      <td>1</td>\n",
       "      <td>1</td>\n",
       "    </tr>\n",
       "    <tr>\n",
       "      <th>1</th>\n",
       "      <td>1</td>\n",
       "      <td>10</td>\n",
       "      <td>1</td>\n",
       "      <td>1</td>\n",
       "      <td>5</td>\n",
       "      <td>2</td>\n",
       "      <td>1</td>\n",
       "      <td>4</td>\n",
       "      <td>1</td>\n",
       "      <td>56</td>\n",
       "      <td>1</td>\n",
       "      <td>1</td>\n",
       "    </tr>\n",
       "    <tr>\n",
       "      <th>2</th>\n",
       "      <td>2</td>\n",
       "      <td>10</td>\n",
       "      <td>1</td>\n",
       "      <td>1</td>\n",
       "      <td>5</td>\n",
       "      <td>2</td>\n",
       "      <td>1</td>\n",
       "      <td>4</td>\n",
       "      <td>1</td>\n",
       "      <td>55</td>\n",
       "      <td>1</td>\n",
       "      <td>1</td>\n",
       "    </tr>\n",
       "    <tr>\n",
       "      <th>3</th>\n",
       "      <td>3</td>\n",
       "      <td>10</td>\n",
       "      <td>1</td>\n",
       "      <td>1</td>\n",
       "      <td>5</td>\n",
       "      <td>2</td>\n",
       "      <td>1</td>\n",
       "      <td>4</td>\n",
       "      <td>1</td>\n",
       "      <td>56</td>\n",
       "      <td>1</td>\n",
       "      <td>1</td>\n",
       "    </tr>\n",
       "    <tr>\n",
       "      <th>4</th>\n",
       "      <td>4</td>\n",
       "      <td>10</td>\n",
       "      <td>1</td>\n",
       "      <td>1</td>\n",
       "      <td>5</td>\n",
       "      <td>2</td>\n",
       "      <td>1</td>\n",
       "      <td>4</td>\n",
       "      <td>1</td>\n",
       "      <td>62</td>\n",
       "      <td>1</td>\n",
       "      <td>1</td>\n",
       "    </tr>\n",
       "    <tr>\n",
       "      <th>...</th>\n",
       "      <td>...</td>\n",
       "      <td>...</td>\n",
       "      <td>...</td>\n",
       "      <td>...</td>\n",
       "      <td>...</td>\n",
       "      <td>...</td>\n",
       "      <td>...</td>\n",
       "      <td>...</td>\n",
       "      <td>...</td>\n",
       "      <td>...</td>\n",
       "      <td>...</td>\n",
       "      <td>...</td>\n",
       "    </tr>\n",
       "    <tr>\n",
       "      <th>124979</th>\n",
       "      <td>56770</td>\n",
       "      <td>220</td>\n",
       "      <td>2</td>\n",
       "      <td>3</td>\n",
       "      <td>4</td>\n",
       "      <td>1</td>\n",
       "      <td>2</td>\n",
       "      <td>1</td>\n",
       "      <td>1</td>\n",
       "      <td>24</td>\n",
       "      <td>2</td>\n",
       "      <td>3</td>\n",
       "    </tr>\n",
       "    <tr>\n",
       "      <th>124980</th>\n",
       "      <td>56770</td>\n",
       "      <td>220</td>\n",
       "      <td>2</td>\n",
       "      <td>3</td>\n",
       "      <td>1</td>\n",
       "      <td>2</td>\n",
       "      <td>1</td>\n",
       "      <td>5</td>\n",
       "      <td>2</td>\n",
       "      <td>0</td>\n",
       "      <td>3</td>\n",
       "      <td>3</td>\n",
       "    </tr>\n",
       "    <tr>\n",
       "      <th>124981</th>\n",
       "      <td>56771</td>\n",
       "      <td>220</td>\n",
       "      <td>2</td>\n",
       "      <td>3</td>\n",
       "      <td>4</td>\n",
       "      <td>1</td>\n",
       "      <td>2</td>\n",
       "      <td>1</td>\n",
       "      <td>1</td>\n",
       "      <td>42</td>\n",
       "      <td>1</td>\n",
       "      <td>3</td>\n",
       "    </tr>\n",
       "    <tr>\n",
       "      <th>124982</th>\n",
       "      <td>56771</td>\n",
       "      <td>220</td>\n",
       "      <td>2</td>\n",
       "      <td>3</td>\n",
       "      <td>4</td>\n",
       "      <td>2</td>\n",
       "      <td>2</td>\n",
       "      <td>1</td>\n",
       "      <td>1</td>\n",
       "      <td>42</td>\n",
       "      <td>2</td>\n",
       "      <td>3</td>\n",
       "    </tr>\n",
       "    <tr>\n",
       "      <th>124983</th>\n",
       "      <td>56771</td>\n",
       "      <td>220</td>\n",
       "      <td>2</td>\n",
       "      <td>3</td>\n",
       "      <td>1</td>\n",
       "      <td>1</td>\n",
       "      <td>1</td>\n",
       "      <td>5</td>\n",
       "      <td>2</td>\n",
       "      <td>11</td>\n",
       "      <td>3</td>\n",
       "      <td>3</td>\n",
       "    </tr>\n",
       "  </tbody>\n",
       "</table>\n",
       "<p>124984 rows × 12 columns</p>\n",
       "</div>"
      ],
      "text/plain": [
       "          hid  htype  nbcars_agg  hsize  age_discrete  gender  marital_status  \\\n",
       "0           0     10           1      1             5       2               4   \n",
       "1           1     10           1      1             5       2               1   \n",
       "2           2     10           1      1             5       2               1   \n",
       "3           3     10           1      1             5       2               1   \n",
       "4           4     10           1      1             5       2               1   \n",
       "...       ...    ...         ...    ...           ...     ...             ...   \n",
       "124979  56770    220           2      3             4       1               2   \n",
       "124980  56770    220           2      3             1       2               1   \n",
       "124981  56771    220           2      3             4       1               2   \n",
       "124982  56771    220           2      3             4       2               2   \n",
       "124983  56771    220           2      3             1       1               1   \n",
       "\n",
       "        employment  driving_licence  age  role  nind  \n",
       "0                4                1   55     1     1  \n",
       "1                4                1   56     1     1  \n",
       "2                4                1   55     1     1  \n",
       "3                4                1   56     1     1  \n",
       "4                4                1   62     1     1  \n",
       "...            ...              ...  ...   ...   ...  \n",
       "124979           1                1   24     2     3  \n",
       "124980           5                2    0     3     3  \n",
       "124981           1                1   42     1     3  \n",
       "124982           1                1   42     2     3  \n",
       "124983           5                2   11     3     3  \n",
       "\n",
       "[124984 rows x 12 columns]"
      ]
     },
     "execution_count": 12,
     "metadata": {},
     "output_type": "execute_result"
    }
   ],
   "source": [
    "reference_data_2015"
   ]
  },
  {
   "cell_type": "markdown",
   "metadata": {},
   "source": [
    "## Simulate events"
   ]
  },
  {
   "cell_type": "code",
   "execution_count": 13,
   "metadata": {},
   "outputs": [],
   "source": [
    "#all rates for simulating events are available here : https://www.bfs.admin.ch/bfs/en/home/statistics/population.html\n",
    "death_ratios = pd.read_csv(\"data\\death_ratios.csv\")\n",
    "death_ratios = death_ratios.groupby([\"Year\",\"Age\",\"Sex\"]).Ratio.sum()\n",
    "mortality_counts = pd.read_csv(\"data\\mortality_counts.csv\")\n",
    "mortality_counts = mortality_counts.groupby([\"Year\", \"Age\", \"Sex\"]).Count.sum()\n",
    "\n",
    "births_ratios = pd.read_csv(\"data\\\\birth_ratios.csv\")\n",
    "age_mother_cats = births_ratios[\"Age class of mother\"].unique()\n",
    "births_ratios = births_ratios.groupby([\"Year\",\"Age class of mother\"]).Ratio.sum()\n",
    "\n",
    "migration_ratios = pd.read_csv(\"data\\\\migration_ratios.csv\")\n",
    "\n",
    "live_births = pd.read_csv(\"data\\\\births_counts.csv\")\n",
    "mortality = pd.read_csv(\"data\\mortality_counts.csv\")\n",
    "population = pd.read_csv(\"data\\population_counts.csv\")\n",
    "\n",
    "births_counts = pd.read_csv(\"data\\\\births_counts.csv\")\n",
    "mariage_counts = pd.read_csv(\"data\\\\mariages_onlyage.csv\")\n",
    "divorce_counts = pd.read_csv(\"data\\\\divorces_onlyage.csv\")"
   ]
  },
  {
   "cell_type": "markdown",
   "metadata": {},
   "source": [
    "### Age"
   ]
  },
  {
   "cell_type": "code",
   "execution_count": 14,
   "metadata": {},
   "outputs": [],
   "source": [
    "def age_increment(df):\n",
    "    df[\"age\"] = df[\"age\"] + 1\n",
    "    df[\"age_discrete\"] = df[\"age\"].apply(age_category)\n",
    "    return df"
   ]
  },
  {
   "cell_type": "markdown",
   "metadata": {},
   "source": [
    "### Births"
   ]
  },
  {
   "cell_type": "code",
   "execution_count": 15,
   "metadata": {},
   "outputs": [],
   "source": [
    "def births_per_year(year):\n",
    "    births = births_counts[births_counts.Year==year].copy()\n",
    "    births = births[~births[\"Age class of mother\"].isin([\"Less than 20 years\", \"50 years or older\"])]\n",
    "    births = births.groupby([\"Marital status of mother\", \"Age class of mother\",\"Birth order\"]).Count.sum()\n",
    "    births_disagg = births.loc[\"Married\"].reset_index(level=[\"Birth order\"])\n",
    "    births_married = births.loc[\"Married\"]\n",
    "    births_other = births.loc[\"Other\"]\n",
    "    for i in births_disagg.index:\n",
    "        if births_married[i].sum()==0:\n",
    "            display(births_other[i])\n",
    "            raise ValueError(f\"Error for {i}\")\n",
    "        births_other[i] = (births_married[i] * (births_other[i].sum()/births_married[i].sum())).values\n",
    "        births_other[i] = births_other[i].astype(int)\n",
    "\n",
    "    births_married = births_married.to_frame().reset_index()\n",
    "    births_other = births_other.to_frame().reset_index()\n",
    "    births_married[\"Marital status of mother\"] = \"Married\"\n",
    "    births_other[\"Marital status of mother\"] = \"Other\"\n",
    "    births = pd.concat([births_married, births_other])\n",
    "    return births\n",
    "\n",
    "def births(df, year):\n",
    "    candidates = df[(df.gender==2)&(df.age>=20)&(df.age<=49)]\n",
    "    candidates = candidates[[\"hid\", \"age\", \"htype\"]]\n",
    "    candidates.sort_values([\"hid\",\"age\"], inplace=True)\n",
    "    candidates = candidates.groupby(\"hid\", as_index= False).first()\n",
    "    candidates[\"in_couple\"] = \"Other\"\n",
    "    candidates.loc[candidates.htype.isin([210, 220]),\"in_couple\"]= \"Married\"\n",
    "    \n",
    "    candidates_indiv = df[df.hid.isin(candidates.hid.values)]\n",
    "    candidates[\"nb_children\"] = candidates[\"hid\"].map(candidates_indiv.groupby(\"hid\").apply(lambda x: (x.age <= candidates.loc[candidates.hid==x.hid.values[0], \"age\"].values[0] - 15).sum()).fillna(0).astype(int))\n",
    "\n",
    "    candidates.drop(\"htype\", axis=1, inplace=True)\n",
    "    candidates.reset_index(drop=True, inplace=True)\n",
    "\n",
    "    candidates[\"age_cat\"] = pd.cut(candidates.age, bins=[0, 20, 25, 30, 35, 40, 45, 50, 120], labels=['Less than 20 years', '20-24 years', '25-29 years', '30-34 years', '35-39 years', '40-44 years','45-49 years', '50 years or older'])\n",
    "    dict_nbchildren_to_order = {0:\"First child\", 1: \"Second child\", 2: \"Third child\", 3: \"Forth child or more\"}\n",
    "    candidates[\"Birth_order\"] = candidates[\"nb_children\"].apply(lambda x : dict_nbchildren_to_order[x] if x<4 else dict_nbchildren_to_order[3])\n",
    "    births = births_per_year(year)\n",
    "    pop_ratio =  (df.shape[0] / population[population.Year==year].Population.sum())\n",
    "    births[\"Count\"] = (births[\"Count\"] * pop_ratio).astype(int)\n",
    "    births = births[births[\"Count\"]>0]\n",
    "    hids_with_births = []\n",
    "\n",
    "    for row in births.iterrows():\n",
    "        cand_row = candidates[(candidates.age_cat==row[1][\"Age class of mother\"])&\n",
    "        (candidates.in_couple==row[1][\"Marital status of mother\"])&\n",
    "        (candidates.Birth_order==row[1][\"Birth order\"])]\n",
    "        if cand_row.shape[0]>= row[1][\"Count\"]:\n",
    "            cand_row = cand_row.sample(n=row[1][\"Count\"], replace=False)\n",
    "        else:\n",
    "            cand_row_supp = candidates[(candidates.age_cat==row[1][\"Age class of mother\"])&\n",
    "        (candidates.in_couple==row[1][\"Marital status of mother\"])&\n",
    "        (candidates.Birth_order!=row[1][\"Birth order\"])]\n",
    "            try :\n",
    "                cand_row_supp = cand_row_supp.sample(n=row[1][\"Count\"]-cand_row.shape[0], replace=False)\n",
    "                cand_row = pd.concat([cand_row, cand_row_supp])\n",
    "            except :\n",
    "                print(cand_row.shape[0], row[1][\"Count\"])\n",
    "                raise ValueError(f\"Not enough candidates for {row[1]}\")\n",
    "        hids_with_births.extend(cand_row.hid.values)\n",
    "\n",
    "    df.loc[df.hid.isin(hids_with_births), \"htype\"] = df.loc[df.hid.isin(hids_with_births), \"htype\"].apply(lambda x : 220 if (x==210)|(x==220) else 230)\n",
    "    df.loc[df.hid.isin(hids_with_births), \"hsize\"] += 1\n",
    "\n",
    "    baby_data = []\n",
    "    for hid in hids_with_births:\n",
    "        hh = df[df.hid==hid]\n",
    "        baby = hh.iloc[0:1].copy()\n",
    "        baby[\"age\"] = 0\n",
    "        baby[\"age_discrete\"] = 1\n",
    "        baby[\"gender\"] = 1 if np.random.rand()<0.5 else 2\n",
    "        baby[\"employment\"] = 5\n",
    "        baby[\"driving_licence\"] = 2\n",
    "        baby[\"role\"] = hh.shape[0] + 1\n",
    "        baby[\"marital_status\"] = 1\n",
    "        baby_data.append(baby)\n",
    "    \n",
    "    df = pd.concat([df] + baby_data)\n",
    "\n",
    "    # Sort by hid and role\n",
    "    df.sort_values(by=[\"hid\", \"age\"], ascending=[True, False], inplace=True)\n",
    "    df.reset_index(drop=True, inplace=True)\n",
    "    return df\n"
   ]
  },
  {
   "cell_type": "markdown",
   "metadata": {},
   "source": [
    "### Death"
   ]
  },
  {
   "cell_type": "code",
   "execution_count": 16,
   "metadata": {},
   "outputs": [],
   "source": [
    "def adapt_hh(df, hid_w_changes, death=False):\n",
    "    df_other = df[~df.hid.isin(hid_w_changes)]\n",
    "    for hid in hid_w_changes:\n",
    "        hh = df[df.hid==hid]\n",
    "        # If hh is empty, then do nothing\n",
    "        if hh.shape[0]==0:\n",
    "            continue\n",
    "        # If households with children only, relocate children to other households with one children at least, then adapt those hh and continue\n",
    "        if hh.age.iloc[0] <18:\n",
    "            # Find all households with one child at least (and older than this one)\n",
    "            hids_with_children = df_other[(df_other.age<18)&(df_other.age>=hh.age.iloc[0]-2)].hid.unique()\n",
    "            # If no such households, then raise error\n",
    "            if hids_with_children.shape[0]==0:\n",
    "                raise ValueError(\"No household with children to relocate children\")\n",
    "            # If there are such households, then relocate children to one of them\n",
    "            for child in hh.index:\n",
    "                # Find a household with one child at least\n",
    "                hid_with_child = np.random.choice(hids_with_children)\n",
    "                new_htype= df.loc[df.hid==hid_with_child, \"htype\"].values[0]\n",
    "                new_car = df.loc[df.hid==hid_with_child, \"nbcars_agg\"].values[0]\n",
    "                # Relocate child\n",
    "                df.loc[child, \"hid\"] = hid_with_child\n",
    "                df.loc[child, \"htype\"] = new_htype\n",
    "                df.loc[child, \"nbcars_agg\"] = new_car\n",
    "                # Adapt hsize\n",
    "                df.loc[df.hid==hid_with_child, \"hsize\"] = df.loc[df.hid==hid_with_child, \"hsize\"].shape[0] \n",
    "            continue\n",
    "        # If size of household is 1, then change type to single, adapt marital status to 3 (widowed) if type was 210 or 220\n",
    "        if hh.shape[0]==1:\n",
    "            if hh.htype.iloc[0] in [210, 220]:\n",
    "                if death:\n",
    "                    df.loc[df.hid==hid, \"marital_status\"] = 3\n",
    "                elif df.loc[df.hid==hid, \"marital_status\"].min()==2:\n",
    "                    df.loc[df.hid==hid, \"marital_status\"] = 1\n",
    "            df.loc[df.hid==hid, \"htype\"] = 10\n",
    "            df.loc[df.hid==hid, \"hsize\"] = 1\n",
    "            continue\n",
    "        # else :\n",
    "        # If htype 30, then no specific treatment\n",
    "        # If Htype 10, should not happen as we have 2 people at least\n",
    "        # If Htype 210, should not happen as we have 2 people at least\n",
    "        if hh.htype.iloc[0] in [10, 210]:\n",
    "            raise ValueError(f\"Household {hid} has htype {hh.htype.iloc[0]} and size {hh.shape[0]}\")\n",
    "        # If htype 220, several things to check\n",
    "        # is there a couple in the household (look for the youngest couple of two adults >24 with age difference <15) ?\n",
    "        # if yes, then check if there are people younger than min age of couple -15 (means children) and if yes, keep type 220 and adapt hsize else change type to 210 and adapt hsize\n",
    "        # if no, it's a single parent household and then htype to 230, marital status to 4 (widowed) to oldest adult and adapt hsize\n",
    "        if hh.htype.iloc[0] == 220:\n",
    "            # Find the two youngest adults\n",
    "            youngest_adults = hh[hh.age>=18].sort_values(by=\"age\")\n",
    "            # If there are less than 2 adults, then raise error\n",
    "            if youngest_adults.shape[0]<2:\n",
    "                df.loc[df.hid==hid, \"htype\"] = 230\n",
    "                df.loc[df.hid==hid, \"hsize\"] = df.loc[df.hid==hid].shape[0]\n",
    "                oldest = hh[hh.age==hh.age.max()].index\n",
    "                if hh.age.iloc[0] - 15 > hh.age.iloc[1]:\n",
    "                    if death:\n",
    "                        df.loc[oldest, \"marital_status\"] = 3\n",
    "                    elif df.loc[oldest, \"marital_status\"].min()==2:\n",
    "                        df.loc[oldest, \"marital_status\"] = 1\n",
    "                else:\n",
    "                    df.loc[df.hid==hid, \"htype\"] = 30\n",
    "                continue\n",
    "            find_couple = False\n",
    "            while (not find_couple)&(youngest_adults.shape[0]>=2):\n",
    "                if youngest_adults.age.iloc[0] - youngest_adults.age.iloc[1] <= 15:\n",
    "                    find_couple = True\n",
    "                else:\n",
    "                    youngest_adults = youngest_adults.iloc[1:]\n",
    "            # If there are people younger than min age of couple -15 (means children) and if yes, keep type 220 and adapt hsize else change type to 210 and adapt hsize\n",
    "            if find_couple:\n",
    "                if hh[hh.age<youngest_adults.age.min()-15].shape[0]>0:\n",
    "                    df.loc[df.hid==hid, \"hsize\"] = df.loc[df.hid==hid].shape[0]\n",
    "                    continue\n",
    "                else:\n",
    "                    if df.loc[df.hid==hid].shape[0] == 2:\n",
    "                        df.loc[df.hid==hid, \"htype\"] = 210\n",
    "                    elif df.loc[df.hid==hid].shape[0] == 3:\n",
    "                        df.loc[df.hid==hid, \"htype\"] = 230\n",
    "                    else:\n",
    "                        df.loc[df.hid==hid, \"htype\"] = 30\n",
    "                    df.loc[df.hid==hid, \"hsize\"] = df.loc[df.hid==hid].shape[0]\n",
    "                    continue\n",
    "            else:\n",
    "                df.loc[df.hid==hid, \"htype\"] = 230\n",
    "                df.loc[df.hid==hid, \"hsize\"] = df.loc[df.hid==hid].shape[0]\n",
    "                oldest = hh[hh.age==hh.age.max()].index\n",
    "                if death:\n",
    "                    df.loc[oldest, \"marital_status\"] = 3\n",
    "                elif df.loc[oldest, \"marital_status\"].min()==2:\n",
    "                    df.loc[oldest, \"marital_status\"] = 1\n",
    "                continue\n",
    "\n",
    "\n",
    "        # If htype 230, should be that the adult is still here after previous checks so nothing to do except adapt hsize\n",
    "        if hh.htype.iloc[0] == 230:\n",
    "            df.loc[df.hid==hid, \"hsize\"] = df.loc[df.hid==hid].shape[0]\n",
    "            if hh.age.iloc[0] - 15 < hh.age.iloc[1]:\n",
    "                df.loc[df.hid==hid, \"htype\"] = 30\n",
    "\n",
    "            continue\n",
    "\n",
    "        # adapt hsize\n",
    "        if hh.htype.iloc[0] == 30:\n",
    "            df.loc[df.hid==hid, \"hsize\"] = df.loc[df.hid==hid].shape[0]\n",
    "            continue\n",
    "\n",
    "        raise ValueError(\"htype not recognized\")\n",
    "    # adapt role\n",
    "    df.sort_values(by=[\"hid\", \"age\"], ascending=[True, False], inplace=True)\n",
    "    df.reset_index(drop=True, inplace=True)\n",
    "    df[\"role\"] = df.groupby(\"hid\").cumcount()+1\n",
    "\n",
    "    return df\n",
    "\n",
    "def death_in_household(df, year):\n",
    "    # Death\n",
    "    death_ratios_year = death_ratios[year]\n",
    "    candidates = df[[\"hid\", \"age\", \"gender\"]]\n",
    "    candidates[\"gender\"]=candidates[\"gender\"].replace({1:\"Male\", 2:\"Female\"})\n",
    "    # If age >= 100, then the person dies\n",
    "    # If age == 0, we don't kill as we generate only live births and death ratios account for live or dead births\n",
    "    def to_kill(x):\n",
    "        if x.age == 0:\n",
    "            return 0\n",
    "        elif x.age >= 100:\n",
    "            return 1\n",
    "        else:\n",
    "            return np.random.binomial(1,death_ratios_year[tuple(x)])\n",
    "    died = candidates[[\"age\", \"gender\"]].apply(lambda x : to_kill(x), axis = 1)\n",
    "    df.drop(died[died==1].index,inplace=True)\n",
    "    hid_w_changes = candidates[died==1].hid.unique()\n",
    "\n",
    "    df = adapt_hh(df, hid_w_changes, death=True)\n",
    "    return df\n"
   ]
  },
  {
   "cell_type": "markdown",
   "metadata": {},
   "source": [
    "### Migration"
   ]
  },
  {
   "cell_type": "code",
   "execution_count": 17,
   "metadata": {},
   "outputs": [],
   "source": [
    "def create_hh_from_indiv(indivs, df_og):\n",
    "\n",
    "\n",
    "    \n",
    "    df_hh = df_og.copy()\n",
    "    indivs.reset_index(drop=True, inplace=True)\n",
    "    # Check indivs with hsize 1\n",
    "    indivs_hsize_1 = indivs[indivs.hsize==1]\n",
    "    indivs_hsize_1.reset_index(drop=True, inplace=True)\n",
    "    # Adapt hid\n",
    "    indivs_hsize_1[\"hid\"] = df_hh.hid.max()+1+indivs_hsize_1.index\n",
    "    # Include them in df_hh\n",
    "    df_hh = pd.concat([df_hh, indivs_hsize_1], axis=0)\n",
    "\n",
    "    # Remove them from indivs\n",
    "    indivs = indivs[indivs.hsize!=1]\n",
    "\n",
    "    \n",
    "    # Check indivs with htype 210\n",
    "    indivs_210 = indivs[indivs.htype==210]\n",
    "    # Create a matching\n",
    "    # Separate by gender\n",
    "    males = indivs_210[(indivs_210.gender==1)&(indivs_210.role<3)].sort_values(by=\"age\", ascending=False)\n",
    "    females = indivs_210[(indivs_210.gender==2)&(indivs_210.role<3)].sort_values(by=\"age\", ascending=False)\n",
    "    if len(males) < len(females):\n",
    "        smaller = males\n",
    "        larger = females\n",
    "    else:\n",
    "        smaller = females\n",
    "        larger = males\n",
    "    idx_remove = []\n",
    "    hh_2_list = []\n",
    "    for idx,person in smaller.iterrows():\n",
    "        cand_p = larger[(larger.age>person.age-10)&(larger.age<person.age+10)]\n",
    "        if cand_p.shape[0] == 0:\n",
    "            continue\n",
    "        other = cand_p.iloc[0:1]\n",
    "        hh_2 = pd.concat([smaller.loc[[idx]], other])\n",
    "        \n",
    "\n",
    "        for x in [idx, other.index.values[0]]:\n",
    "            if x in idx_remove:\n",
    "                display(person.to_frame())\n",
    "                display(other)\n",
    "                display(df_hh[df_hh.hid.isin([indivs.loc[x].hid])])\n",
    "                raise ValueError(f\"Index already in idx_remove {x}\")\n",
    "        idx_remove.append(idx)\n",
    "        idx_remove.extend(other.index.values)\n",
    "        hh_2[\"hid\"] = df_hh.hid.max()+1+len(hh_2_list)\n",
    "        hh_2[\"marital_status\"] = 2\n",
    "        hh_2[\"nbcars_agg\"] = person.nbcars_agg\n",
    "        hh_2_list.append(hh_2)\n",
    "        larger.drop(other.index, inplace=True)\n",
    "    df_hh = pd.concat([df_hh]+hh_2_list, axis=0)\n",
    "\n",
    "\n",
    "    # Check which index is a duplicate in idx_remove\n",
    "    \n",
    "\n",
    "    indivs.drop(idx_remove, inplace=True)\n",
    "    \n",
    "    # Check indivs with htype 220\n",
    "    indivs_220 = indivs[indivs.htype==220]\n",
    "    # Separate by gender\n",
    "    males = indivs_220[(indivs_220.gender==1)&(indivs_220.role<3)].sort_values(by=\"age\", ascending=False)\n",
    "    females = indivs_220[(indivs_220.gender==2)&(indivs_220.role<3)].sort_values(by=\"age\", ascending=False)\n",
    "    children = indivs_220[indivs_220.role>=3]\n",
    "    if len(males) < len(females):\n",
    "        smaller = males\n",
    "        larger = females\n",
    "    else:\n",
    "        smaller = females\n",
    "        larger = males\n",
    "    idx_remove = []\n",
    "    hh_2_list = []\n",
    "    for idx,person in smaller.iterrows():\n",
    "        cand_p = larger[(larger.age>person.age-10)&(larger.age<person.age+10)]\n",
    "        if cand_p.shape[0] == 0:\n",
    "            continue\n",
    "        other = cand_p.iloc[0:1]\n",
    "        min_age = min(person.age, other.age.values[0])\n",
    "        max_age = max(person.age, other.age.values[0])\n",
    "        cand_c = children[(children.age<min_age-15)&(children.age>max_age-40)]\n",
    "        if cand_c.shape[0] == 0:\n",
    "            hh_child = pd.DataFrame()\n",
    "        else:\n",
    "            size = min(person.hsize-2, cand_c.shape[0])\n",
    "            hh_child = cand_c.sample(size)\n",
    "        hh_2 = pd.concat([smaller.loc[[idx]], other, hh_child])\n",
    "        hh_2 = hh_2.astype(\"int64\")\n",
    "        idx_remove.append(idx)\n",
    "        idx_remove.extend(other.index.values)\n",
    "        idx_remove.extend(hh_child.index.values)\n",
    "        hh_2[\"hid\"] = df_hh.hid.max()+1+len(hh_2_list)\n",
    "        hh_2.loc[[idx, other.index[0]],\"marital_status\"] = 2\n",
    "        hh_2[\"nbcars_agg\"] = person.nbcars_agg\n",
    "        hh_2[\"hsize\"] = hh_2.shape[0]\n",
    "        hh_2_list.append(hh_2)\n",
    "        larger.drop(other.index, inplace=True)\n",
    "        children.drop(hh_child.index, inplace=True)\n",
    "    df_hh = pd.concat([df_hh]+hh_2_list, axis=0)\n",
    "    indivs.drop(idx_remove, inplace=True)\n",
    "\n",
    "\n",
    "    # Check indivs with htype 230\n",
    "    indivs_230 = indivs[indivs.htype==230]\n",
    "    parents = indivs_230[indivs_230.role==1]\n",
    "    children = indivs_230[indivs_230.role>=2]\n",
    "    idx_remove = []\n",
    "    hh_2_list = []\n",
    "    for idx,person in parents.iterrows():\n",
    "        cand_c = children[(children.age<person.age-15)&(children.age>person.age-40)]\n",
    "        if cand_c.shape[0] == 0:\n",
    "            hh_child = pd.DataFrame()\n",
    "        else:\n",
    "            size = min(person.hsize-2, cand_c.shape[0])\n",
    "            hh_child = cand_c.sample(size)\n",
    "        hh_2 = pd.concat([parents.loc[[idx]], hh_child])\n",
    "        hh_2 = hh_2.astype(\"int64\")\n",
    "        idx_remove.append(idx)\n",
    "        idx_remove.extend(hh_child.index.values)\n",
    "        hh_2[\"hid\"] = df_hh.hid.max()+1+len(hh_2_list)\n",
    "        hh_2[\"nbcars_agg\"] = person.nbcars_agg\n",
    "        hh_2[\"hsize\"] = hh_2.shape[0]\n",
    "        hh_2_list.append(hh_2)\n",
    "        children.drop(hh_child.index, inplace=True)\n",
    "    df_hh = pd.concat([df_hh]+hh_2_list, axis=0)\n",
    "    indivs.drop(idx_remove, inplace=True)\n",
    "\n",
    "    \n",
    "    # All remaining indivs are in htype 30\n",
    "    indivs.sort_values(by=\"age\", ascending=False, inplace=True)\n",
    "    hhs = []\n",
    "    while indivs.shape[0]>0:\n",
    "        adults = indivs[indivs.age>=18]\n",
    "        children = indivs[indivs.age<18]\n",
    "        if adults.shape[0] == 0:\n",
    "            hh_idx = np.random.randint(0, len(hhs))\n",
    "            hh = hhs[hh_idx]\n",
    "            child = children.iloc[0:1]\n",
    "            child[\"hid\"] = hh.hid.values[0]\n",
    "            hh = pd.concat([hh, child])\n",
    "            hh[\"hsize\"] = hh.shape[0]\n",
    "            hh[\"htype\"] = 30\n",
    "            hh[\"nbcars_agg\"] = hh.nbcars_agg.values[0]\n",
    "            hhs[hh_idx] = hh\n",
    "            indivs.drop(child.index, inplace=True)\n",
    "            continue\n",
    "        first_adult = adults.iloc[0:1]\n",
    "        hsize = min(first_adult.hsize.values[0], indivs.shape[0])\n",
    "        hh = indivs.drop(first_adult.index.values[0],axis=0).sample(hsize-1)\n",
    "        hh = pd.concat([first_adult, hh])\n",
    "        hh[\"hid\"] = df_hh.hid.max()+len(hhs)+1\n",
    "        hh[\"hsize\"] = hh.shape[0]\n",
    "        hh[\"htype\"] = 30\n",
    "        hh[\"nbcars_agg\"] = hh.nbcars_agg.values[0]\n",
    "        hhs.append(hh)\n",
    "        indivs.drop(hh.index, inplace=True)\n",
    "    df_hh = pd.concat([df_hh, *hhs], axis=0)\n",
    "\n",
    "\n",
    "    df_hh.sort_values(by=[\"hid\", \"age\"], ascending=[True, False], inplace=True)\n",
    "    df_hh.reset_index(drop=True, inplace=True)\n",
    "    df_hh[\"role\"] = df_hh.groupby(\"hid\").cumcount()+1\n",
    "    return df_hh\n",
    "\n",
    "\n",
    "def migration(df, year):\n",
    "    # TODO : create individuals and group them, or remove them\n",
    "    migration_ratios_year = migration_ratios[migration_ratios.Year == year]\n",
    "    migration_ratios_year.Sex.replace({\"Male\":1, \"Female\":2}, inplace=True)\n",
    "    migration_ratios_year = migration_ratios_year.groupby([\"Age\", \"Sex\"]).Ratio.sum()\n",
    "\n",
    "    counts_sample = synthetic_2010_with_age[[\"age\", \"gender\"]].value_counts()\n",
    "    intersection = migration_ratios_year.index.intersection(counts_sample.index.values)\n",
    "    to_change = (migration_ratios_year[intersection] * counts_sample[intersection.values]).astype(int)\n",
    "    to_add = to_change[to_change>0]\n",
    "    to_remove = to_change[to_change<0]\n",
    "\n",
    "    for i in to_remove.index:\n",
    "        age, sex = i\n",
    "        df_i = df[(df.age == age) & (df.gender==sex)]\n",
    "        n = -to_remove[i]\n",
    "        if n > df_i.shape[0]:\n",
    "            n = df_i.shape[0]\n",
    "        df_remove = df_i.sample(n)\n",
    "        df.drop(df_remove.index, inplace=True)\n",
    "        hid_w_changes = df_remove.hid.unique()\n",
    "        df = adapt_hh(df, hid_w_changes)\n",
    "\n",
    "    indivs = pd.DataFrame(columns=df.columns)\n",
    "    toadd_list = []\n",
    "    weights = df.htype.value_counts(normalize=True)\n",
    "    for i in to_add.index:\n",
    "        age, sex = i\n",
    "        df_i = df[(df.age == age) & (df.gender==sex)]\n",
    "        n = to_add[i]\n",
    "        # build weights according to hhtype frequency\n",
    "        weights_i = df_i.htype.apply(lambda x: weights[x])\n",
    "        df_add = df_i.sample(n, weights=weights_i, replace=True)\n",
    "        toadd_list.append(df_add)\n",
    "    indivs = pd.concat([indivs, *toadd_list], axis=0)\n",
    "    df = create_hh_from_indiv(indivs, df)\n",
    "    df = df.astype(\"int64\")\n",
    "\n",
    "    return df\n"
   ]
  },
  {
   "cell_type": "markdown",
   "metadata": {},
   "source": [
    "### Mariage"
   ]
  },
  {
   "cell_type": "code",
   "execution_count": 18,
   "metadata": {},
   "outputs": [],
   "source": [
    "def mariage(df, year):\n",
    "    # Takes only people from households 10, 230 or 30\n",
    "    df_m = df[(df.htype==10)|(df.htype==230)|(df.htype==30)]\n",
    "    # Keep more than 18 yo\n",
    "    df_m = df_m[df_m.age>=18]\n",
    "    \n",
    "    pop_ratio =  (df.shape[0] / population[population.Year==year].Population.sum())\n",
    "    mariage_year = mariage_counts[mariage_counts.Year==year].groupby([\"Age_of_husband\", \"Age_of_wife\"]).Count.sum()\n",
    "    mariages = (pop_ratio * mariage_year).astype(int)\n",
    "\n",
    "    # Create new column age_cat '20-24 ans', '25-29 ans', '30-34 ans', '35-39 ans', '40-49 ans', '50-59 ans', '60 ans ou plus', 'Moins de 20 ans'\n",
    "    df_m[\"age_cat\"] = pd.cut(df_m.age, bins=[0, 20, 25, 30, 35, 40, 50, 60, 120], labels=['Moins de 20 ans', '20-24 ans', '25-29 ans', '30-34 ans', '35-39 ans', '40-49 ans', '50-59 ans', '60 ans ou plus'])\n",
    "\n",
    "    to_adapt = []\n",
    "    for idx in mariages.index:\n",
    "        age_h = idx[0]\n",
    "        age_w = idx[1]\n",
    "        df_h = df_m[(df_m.age_cat==age_h)&(df_m.gender==1)]\n",
    "        df_w = df_m[(df_m.age_cat==age_w)&(df_m.gender==2)]\n",
    "        n = mariages.loc[idx]\n",
    "        if n > df_h.shape[0]:\n",
    "            n = df_h.shape[0]\n",
    "        if n > df_w.shape[0]:\n",
    "            n = df_w.shape[0]\n",
    "        df_h = df_h.sample(n)\n",
    "        df_w = df_w[~df_w.hid.isin(df_h.hid.unique())].sample(n)\n",
    "        to_drop = []\n",
    "        for i in range(n):\n",
    "            new_hid = df.hid.max()+1\n",
    "            to_adapt.extend([df_h.iloc[i].hid, df_w.iloc[i].hid])\n",
    "            # We keep the individual and all people in the household with age < husband age -15 or wife age -15\n",
    "            df.loc[(df.index == df_h.iloc[i].name) | ((df.hid == df_h.iloc[i].hid) & (df.age < df_h.iloc[i].age-15)), \"hid\"] = new_hid\n",
    "            df.loc[(df.index == df_w.iloc[i].name) | ((df.hid == df_w.iloc[i].hid) & (df.age < df_w.iloc[i].age-15)), \"hid\"] = new_hid\n",
    "            to_drop.extend(df.loc[df.hid==new_hid].index.intersection(df_m.index))\n",
    "            df.loc[(df.index == df_h.iloc[i].name),\"marital_status\"] = 2\n",
    "            df.loc[(df.index == df_w.iloc[i].name),\"marital_status\"] = 2\n",
    "            \n",
    "            df.loc[df.hid == df_h.iloc[i].hid, \"nbcars_agg\"] = np.minimum(df_h.iloc[i].nbcars_agg, df.loc[df.hid == df_h.iloc[i].hid].shape[0])\n",
    "            df.loc[df.hid == df_w.iloc[i].hid, \"nbcars_agg\"] = np.minimum(df_w.iloc[i].nbcars_agg, df.loc[df.hid == df_w.iloc[i].hid].shape[0])\n",
    "\n",
    "            df.loc[df.hid == new_hid, \"nbcars_agg\"] = df_h.iloc[i].nbcars_agg + df_w.iloc[i].nbcars_agg\n",
    "            new_size = df.loc[df.hid == new_hid].shape[0]\n",
    "            df.loc[df.hid == new_hid, \"hsize\"] = new_size\n",
    "            df.loc[df.hid == new_hid, \"htype\"] = 210 if new_size == 2 else 220\n",
    "        \n",
    "        df_m.drop(to_drop, inplace=True)\n",
    "        \n",
    "    df = adapt_hh(df, to_adapt)\n",
    "    df.sort_values(by=[\"hid\", \"age\"], ascending=[True, False], inplace=True)\n",
    "    df.reset_index(drop=True, inplace=True)\n",
    "    df[\"role\"] = df.groupby(\"hid\").cumcount()+1\n",
    "\n",
    "    return df"
   ]
  },
  {
   "cell_type": "markdown",
   "metadata": {},
   "source": [
    "### Divorce"
   ]
  },
  {
   "cell_type": "code",
   "execution_count": 19,
   "metadata": {},
   "outputs": [],
   "source": [
    "def divorce(df, year):\n",
    "    # Takes htype 210 and 220\n",
    "    df_d = df[(df.htype==210)]\n",
    "    # keep htype 220\n",
    "    df_d_220 = df[(df.htype==220)]\n",
    "    # keep hid where more than 2 adults\n",
    "    df_adults = df_d_220[df_d_220.age>=18]\n",
    "    df_adults_s2 = df_adults.groupby(\"hid\").filter(lambda x: x.shape[0]==2)\n",
    "    df_d = df_d.append(df_adults_s2)\n",
    "    df_hh_s = df_d_220[~df_d_220.hid.isin(df_adults_s2.hid)]\n",
    "    df_hh_s = df_hh_s[(df_hh_s.age>=18)|(df_hh_s.groupby(\"hid\").age.shift()>=18)]\n",
    "    df_hh_s[\"age_to_min\"] = df_hh_s.age - df_hh_s.groupby(\"hid\").age.transform(\"min\")\n",
    "    df_hh_s = df_hh_s[df_hh_s[\"age_to_min\"]>10]\n",
    "    df_hh_s[\"age_diff\"] = df_hh_s.groupby(\"hid\").age.diff(-1)\n",
    "    df_hh_s = df_hh_s[df_hh_s.role < df_hh_s.hsize] # Drop if role = hsize\n",
    "    df_d_220_firsts = df_hh_s[df_hh_s.age_diff<=15]\n",
    "    df_d_220_firsts = df_d_220_firsts.groupby(\"hid\",as_index=False).head(1)\n",
    "    # drop df_d_220 index from df_d except firsts and firsts+1\n",
    "    to_keep = df_hh_s.loc[df_d_220_firsts.index | (df_d_220_firsts.index +1)]\n",
    "    hh_with_couples = to_keep.hid.unique()\n",
    "    df_d = df_d.append(to_keep.drop([\"age_to_min\", \"age_diff\"],axis=1))\n",
    "    df_d_220_rest = df_hh_s[~df_hh_s.hid.isin(hh_with_couples)]\n",
    "\n",
    "    # Adapt weird cases\n",
    "    # # If Age of first - age of second >15, then change htype to 230\n",
    "    # # Else : change htype to 30\n",
    "    hids = df_d_220_rest.groupby(\"hid\").filter(lambda x: x.shape[0]==1).hid.unique()\n",
    "    house = df[df.hid.isin(hids)]\n",
    "    test = pd.DataFrame([house[house['role'] == 1]['age'].values,\\\n",
    "        house[house['role'] == 2]['age'].values,\n",
    "        house[house['role'] == 1][\"hid\"].values]).T\n",
    "    test.columns = ['age1','age2', 'hid']\n",
    "    to_adapt = test[(test.age1 - test.age2) > 15]\n",
    "    df.loc[df.hid.isin(to_adapt.hid), \"htype\"] = 230\n",
    "    to_adapt = test[(test.age1 - test.age2) <= 15]\n",
    "    df.loc[df.hid.isin(to_adapt.hid), \"htype\"] = 30\n",
    "\n",
    "    df_d_220_rest = df_d_220_rest[~df_d_220_rest.hid.isin(hids)]\n",
    "    to_keep_index = df_d_220_rest.groupby(\"hid\").age_diff.idxmin().values\n",
    "    to_keep = df_d_220_rest.loc[np.concatenate([to_keep_index, to_keep_index + 1])]\n",
    "    df_d = df_d.append(to_keep.drop([\"age_to_min\", \"age_diff\"],axis=1))\n",
    "\n",
    "    # Remove homo couples\n",
    "    homo = (df_d.groupby(\"hid\").gender.diff(-1) == 0)\n",
    "    hids = df_d.loc[homo[homo].index].hid.unique()\n",
    "    df_d = df_d[~df_d.hid.isin(hids)]\n",
    "\n",
    "    # df_d contains the couples that may divorce\n",
    "\n",
    "    pop_ratio =  (df.shape[0] / population[population.Year==year].Population.sum())\n",
    "    divorce_year = divorce_counts[divorce_counts.Year==year].groupby([\"Age_of_husband\", \"Age_of_wife\"]).Count.sum()\n",
    "    divorces = (pop_ratio * divorce_year).astype(int)\n",
    "\n",
    "    # Create new column age_cat 'Moins de 20 ans', '20-29 ans', '30-39 ans', '40-49 ans', '50-59 ans', '60-69 ans','70-79 ans', '80-89 ans', '90 ans ou plus'\n",
    "    df_d[\"age_cat\"] = pd.cut(df_d.age, bins=[0, 20, 30, 40, 50, 60, 70, 80, 90, 120], labels=['Moins de 20 ans', '20-29 ans', '30-39 ans', '40-49 ans', '50-59 ans', '60-69 ans','70-79 ans', '80-89 ans', '90 ans ou plus'])\n",
    "    \n",
    "    for idx in divorces.index:\n",
    "        age_h = idx[0]\n",
    "        age_w = idx[1]\n",
    "        men_hids = df_d[(df_d.age_cat==age_h)&(df_d.gender==1)].hid.unique()\n",
    "        women_hids = df_d[(df_d.age_cat==age_w)&(df_d.gender==2)].hid.unique()\n",
    "        # Intersect the two lists\n",
    "        couples_hids = np.intersect1d(men_hids, women_hids)\n",
    "        n = divorces.loc[idx]\n",
    "        if n > couples_hids.shape[0]:\n",
    "            n = couples_hids.shape[0]\n",
    "        couples_hids = np.random.choice(couples_hids, n, replace=False)\n",
    "        for hid in couples_hids:\n",
    "            couple = df_d[df_d.hid==hid]\n",
    "            single_idx = np.random.choice([0,1])\n",
    "            single = couple.iloc[single_idx]\n",
    "            df.loc[single.name, \"marital_status\"] = 4\n",
    "            df.loc[single.name, \"htype\"] = 10\n",
    "            df.loc[single.name, \"hid\"] = df.hid.max()+1\n",
    "            df.loc[single.name, \"hsize\"] = 1 \n",
    "            df.loc[single.name, \"nbcars_agg\"] = 1 if (single.nbcars_agg >= 2 & single.driving_licence==1) else 0\n",
    "            \n",
    "            other = couple.iloc[1-single_idx]\n",
    "            df.loc[other.name, \"marital_status\"] = 4\n",
    "            df.loc[df.hid == hid, \"htype\"] = 230 if other.htype == 220 else 10\n",
    "            df.loc[df.hid == hid, \"nbcars_agg\"] = df.loc[df.hid == hid, \"nbcars_agg\"] - df.loc[single.name, \"nbcars_agg\"]\n",
    "            df.loc[df.hid == hid, \"hsize\"] = df.loc[df.hid == hid, \"hsize\"] - 1\n",
    "\n",
    "    df.sort_values(by=[\"hid\", \"age\"], ascending=[True, False], inplace=True)\n",
    "    df.reset_index(drop=True, inplace=True)\n",
    "    df[\"role\"] = df.groupby(\"hid\").cumcount()+1\n",
    "    \n",
    "    return df"
   ]
  },
  {
   "cell_type": "markdown",
   "metadata": {},
   "source": [
    "### Leaving house"
   ]
  },
  {
   "cell_type": "code",
   "execution_count": 20,
   "metadata": {},
   "outputs": [],
   "source": [
    "def leave_household(df, atparents_percent = 0.67):\n",
    "    \"\"\"\"Young people leave their parents' house to live alone.\"\"\"\n",
    "    df_aux = df.copy()\n",
    "    df_aux[\"age_to_min\"] = df_aux.age - df_aux.groupby(\"hid\").age.transform(min)\n",
    "    df_aux[\"age_prev\"] = df_aux.groupby(\"hid\").age.shift(1)\n",
    "\n",
    "    df_young = df_aux[(df_aux.age <= 28)&(df_aux.age>=15)]\n",
    "    # check young which live with their parents\n",
    "    candidates = df_young.loc[(((df_young.role>=3) & (df_young.htype==220))|((df_young.role>=2) & (df_young.htype==230)))&(df_young.age_prev>=15)] # why age_prev>=15 ?8\n",
    "    actual_percent = candidates.shape[0] / df_young.shape[0]\n",
    "\n",
    "    if actual_percent > atparents_percent:\n",
    "        amount = int((actual_percent - atparents_percent) * df_young.shape[0])\n",
    "        candidates[\"weights\"] = pd.cut(candidates.age, bins=[14, 18, 22, 26, 30], labels=[0.1, 1, 5, 10]).tolist()\n",
    "        candidates = candidates.sample(amount, weights=candidates.weights, replace=False)\n",
    "        \n",
    "    else:\n",
    "        return df\n",
    "\n",
    "    hids_to_adapt = candidates.hid.unique()\n",
    "    candidates_single=[]\n",
    "    for idx in candidates.index:\n",
    "        candidate = candidates.loc[idx]\n",
    "        children = df[(df.hid==candidate.hid)&(df.age <= candidate.age-18)]\n",
    "        \n",
    "        if children.shape[0] == 0:\n",
    "            candidates_single.append(candidate.name)\n",
    "        else:\n",
    "            all_indexes = children.index.tolist() + [candidate.name]\n",
    "            df.loc[all_indexes, \"htype\"] = 230\n",
    "            df.loc[all_indexes, \"hsize\"] = 1 + children.shape[0]\n",
    "            df.loc[all_indexes, \"nbcars_agg\"] = 1 if ((candidate.nbcars_agg >= 2) & (candidate.driving_licence==1)) else 0\n",
    "            df.loc[all_indexes, \"hid\"] = df.hid.max()+1\n",
    "\n",
    "    df.loc[candidates_single, \"htype\"] = 10\n",
    "    df.loc[candidates_single, \"hsize\"] = 1\n",
    "    df.loc[candidates_single, \"nbcars_agg\"] = 1 if ((candidate.nbcars_agg >= 2) & (candidate.driving_licence==1)) else 0\n",
    "    df.loc[candidates_single, \"hid\"] = df.hid.max()+np.arange(1, len(candidates_single)+1)\n",
    "    df.loc[candidates_single, \"marital_status\"] = 1\n",
    "\n",
    "    df = adapt_hh(df, hids_to_adapt)\n",
    "\n",
    "    df.sort_values(by=[\"hid\", \"age\"], ascending=[True, False], inplace=True)\n",
    "    df.reset_index(drop=True, inplace=True)\n",
    "    df[\"role\"] = df.groupby(\"hid\").cumcount()+1\n",
    "    \n",
    "    return df"
   ]
  },
  {
   "cell_type": "markdown",
   "metadata": {},
   "source": [
    "### Employment change"
   ]
  },
  {
   "cell_type": "code",
   "execution_count": 21,
   "metadata": {},
   "outputs": [],
   "source": [
    "cond_employment = DFconditional(synthetic_2010_with_age[[\"age\", \"gender\", \"employment\"]], \"employment\")\n",
    "\n",
    "def draw_next_employment(row):\n",
    "    if row.age < 15:\n",
    "        return 5\n",
    "    # if (row.employment == 3)|(row.age < 24):\n",
    "    try :\n",
    "        cond = cond_employment\n",
    "        index = discrete_inverse_trans(transform_into_marginals_clean(cond.loc[(row.age, row.gender)].tolist()))\n",
    "        unique = sorted(cond.loc[(row.age, row.gender)].index)\n",
    "        return unique[index - 1]\n",
    "    except :\n",
    "        if row.age > 64:\n",
    "            return 4\n",
    "        else:\n",
    "            try: \n",
    "                cond = cond_employment\n",
    "                index = discrete_inverse_trans(transform_into_marginals_clean(cond.loc[(row.age+1, row.gender)].tolist()))\n",
    "                unique = sorted(cond.loc[(row.age+1, row.gender)].index)\n",
    "            except:\n",
    "                raise ValueError(f\"{row}\")"
   ]
  },
  {
   "cell_type": "markdown",
   "metadata": {},
   "source": [
    "## Algorithm"
   ]
  },
  {
   "cell_type": "code",
   "execution_count": 22,
   "metadata": {},
   "outputs": [],
   "source": [
    "def predict_sample(sample, t=1, year=2010):\n",
    "    \"\"\"Predict the sample for t years from year.\"\"\"\n",
    "\n",
    "    predictive_sample = sample.copy()\n",
    "\n",
    "    for i in range(t):\n",
    "        print(f\"Year {year}\")\n",
    "        t0 = time.time()\n",
    "        # Age increment\n",
    "        predictive_sample = age_increment(predictive_sample)\n",
    "        # print(f\"Age increment : {time.time()-t0}\")\n",
    "        \n",
    "        \n",
    "        t0 = time.time()\n",
    "        # Birth for female population\n",
    "        predictive_sample = births(predictive_sample, year)\n",
    "        # print(f\"Births : {time.time()-t0}\")\n",
    "        predictive_sample = predictive_sample.astype(int)\n",
    "\n",
    "        t0 = time.time()\n",
    "        # Death\n",
    "        predictive_sample = death_in_household(predictive_sample, year)\n",
    "        # print(f\"Death : {time.time()-t0}\")\n",
    "\n",
    "        t0 = time.time()\n",
    "        # Net migration\n",
    "        predictive_sample = migration(predictive_sample, year)\n",
    "        # print(f\"Net migration : {time.time()-t0}\")\n",
    "\n",
    "        t0 = time.time()\n",
    "        # Mariage\n",
    "        predictive_sample = mariage(predictive_sample, year)\n",
    "        # print(f\"Mariage : {time.time()-t0}\")\n",
    "\n",
    "        t0 = time.time()\n",
    "        # Divorce\n",
    "        predictive_sample = divorce(predictive_sample, year)\n",
    "        # print(f\"Divorce : {time.time()-t0}\")\n",
    "\n",
    "        t0 = time.time()\n",
    "        # Leave household\n",
    "        predictive_sample = leave_household(predictive_sample)\n",
    "        # print(f\"Leave household : {time.time()-t0}\")\n",
    "\n",
    "        # Increment year\n",
    "        year +=1\n",
    "\n",
    "        # plot_marginals([synthetic_2010_with_age[synthetic_2010_with_age.role==1], predictive_sample[predictive_sample.role==1]],\"htype\",[\"ref\", \"synth\"], [10, 30, 210, 220, 230])\n",
    "\n",
    "    t0 = time.time()\n",
    "    # Change employment\n",
    "    predictive_sample[\"employment\"] = predictive_sample[[\"age\", \"gender\"]].apply(draw_next_employment, axis = 1)\n",
    "    # print(f\"Employment : {time.time()-t0}\")\n",
    "    \n",
    "    return predictive_sample"
   ]
  },
  {
   "cell_type": "code",
   "execution_count": 23,
   "metadata": {},
   "outputs": [
    {
     "name": "stdout",
     "output_type": "stream",
     "text": [
      "Year 2010\n",
      "Year 2011\n",
      "Year 2012\n",
      "Year 2013\n",
      "Year 2014\n",
      "Year 2015\n",
      "Year 2010\n",
      "Year 2011\n",
      "Year 2012\n",
      "Year 2013\n",
      "Year 2014\n",
      "Year 2015\n",
      "Year 2010\n",
      "Year 2011\n",
      "Year 2012\n",
      "Year 2013\n",
      "Year 2014\n",
      "Year 2015\n"
     ]
    }
   ],
   "source": [
    "os.makedirs(\"results/proj2010_2015\", exist_ok=True)\n",
    "#several iterations for bootstrap\n",
    "for b in range(97,100):\n",
    "    predictive_sample_2010_2015 = predict_sample(synthetic_2010_with_age, t=6, year=2010)\n",
    "    predictive_sample_2010_2015.to_csv(f\"results/proj2010_2015/synthetic_2010_2015_{b}.csv\", index=False)"
   ]
  },
  {
   "cell_type": "code",
   "execution_count": 24,
   "metadata": {},
   "outputs": [
    {
     "name": "stdout",
     "output_type": "stream",
     "text": [
      "Year 2010\n",
      "Year 2011\n",
      "Year 2012\n",
      "Year 2013\n",
      "Year 2014\n",
      "Year 2015\n"
     ]
    }
   ],
   "source": [
    "#or only once\n",
    "predictive_sample_2010_2015 = predict_sample(synthetic_2010_with_age, t=6, year=2010)"
   ]
  },
  {
   "cell_type": "markdown",
   "metadata": {},
   "source": [
    "# Plotting"
   ]
  },
  {
   "cell_type": "code",
   "execution_count": 25,
   "metadata": {},
   "outputs": [],
   "source": [
    "sns.set_style(\"whitegrid\")\n",
    "\n",
    "# For the Python notebook\n",
    "%matplotlib inline\n",
    "\n",
    "font = {'family' : 'arial',\n",
    "'weight' : 'normal',\n",
    "'size'   : 10}\n",
    "matplotlib.rc('font', **font)\n",
    "\n",
    "colors = ['black', 'darkgray', \"gray\", \"lightgray\", \"silver\", \"whitesmoke\"]\n",
    "labels = ['Original', 'Simulation synthetic']\n",
    "labels_name = [['<14','14-18','18-24','24-44','44-65','>65'],\n",
    "               [\"Male\", \"Female\"],\n",
    "               [\"Yes\", \"No\"],]\n",
    "\n",
    "labels_name_1 = [['<14','14-18','18-24','24-44','44-65','>65'], ['1','2','3','4','5'],\n",
    "               [\"Male\", \"Female\"]]\n",
    "\n",
    "cols = [\"age_discrete\", \"gender\",\"driving_licence\"]\n",
    "cols_1 = [\"age_discrete\", \"employment\",\"gender\"]\n",
    "    \n",
    "def plot_marginals_2(dfs,cols,labels_name, labels = labels, boostrap=False, b=100):\n",
    "\n",
    "    fig,ax = plt.subplots(1, len(cols), figsize=(15,3))\n",
    "\n",
    "    for i_col, col in enumerate(cols):\n",
    "\n",
    "        probs = [df[col].value_counts()/len(df) for df in dfs]\n",
    "\n",
    "        dct = {}\n",
    "        for l in labels:\n",
    "            dct[l] = []\n",
    "        \n",
    "        idx = sorted(list(dfs[0][col].unique()))\n",
    "        for i in idx:\n",
    "\n",
    "            for j, l in enumerate(labels):      \n",
    "                try:\n",
    "                    dct[l].append(probs[j].loc[i])\n",
    "                except:\n",
    "                    print(\"s\")\n",
    "                    dct[l].append(0)\n",
    "\n",
    "\n",
    "        tmp_df = pd.DataFrame(dct, index=idx)\n",
    "\n",
    "        if boostrap:\n",
    "            n = len(dfs[1])\n",
    "            bs_probs = []\n",
    "            for _ in range(b):\n",
    "                bs_sample = dfs[1].sample(n, replace=True)\n",
    "                probs = bs_sample[col].value_counts()/len(bs_sample)\n",
    "                bs_probs.append(probs)\n",
    "\n",
    "            bs_probs = pd.DataFrame(bs_probs)\n",
    "            bs_probs = bs_probs.quantile([0.025, 0.975], axis=0)\n",
    "            bs_probs = bs_probs.T\n",
    "            bs_probs.columns = ['lower', 'upper']\n",
    "            bs_probs['lower'] = tmp_df[labels[1]] - bs_probs['lower']\n",
    "            bs_probs['upper'] = bs_probs['upper'] - tmp_df[labels[1]]\n",
    "            bs_probs = bs_probs[['lower', 'upper']].values.T\n",
    "\n",
    "            tmp_df.plot(ax = ax[i_col], figsize=(4,4), kind='bar', color=colors, yerr=[np.zeros_like(bs_probs), bs_probs], rot= 45)\n",
    "\n",
    "        else :\n",
    "            tmp_df.plot(ax = ax[i_col],figsize=(4,4), kind='bar', color=colors, rot= 45)\n",
    "            \n",
    "\n",
    "        ax[i_col].set_xticklabels(labels_name[i_col])\n",
    "        ax[i_col].set_title(col)\n",
    "        ax[i_col].set_ylabel(\"Frequency\")\n",
    "        ax[i_col].set_xlabel(\"\")\n",
    "        ax[i_col].set_title(col)\n",
    "\n",
    "        # Remove legend\n",
    "        ax[i_col].legend().set_visible(False)\n",
    "\n",
    "    ax[i_col].legend(labels)\n",
    "    fig.suptitle(f'Marginal distributions')\n",
    "    fig.show()\n",
    "\n",
    "    # Figsize is overriden by the figsize of the subplots\n",
    "    fig.set_size_inches(15,4)\n",
    "\n",
    "    return"
   ]
  },
  {
   "cell_type": "code",
   "execution_count": 26,
   "metadata": {},
   "outputs": [
    {
     "data": {
      "image/png": "[encoded data removed]",
      "text/plain": [
       "<Figure size 1080x288 with 3 Axes>"
      ]
     },
     "metadata": {
      "needs_background": "light"
     },
     "output_type": "display_data"
    }
   ],
   "source": [
    "plot_marginals_2([reference_data_2015, predictive_sample_2010_2015],cols,labels_name, labels =  [\"Reference 2015\", \"Predictive 2015\"]);"
   ]
  },
  {
   "cell_type": "code",
   "execution_count": 27,
   "metadata": {},
   "outputs": [
    {
     "data": {
      "text/html": [
       "<div>\n",
       "<style scoped>\n",
       "    .dataframe tbody tr th:only-of-type {\n",
       "        vertical-align: middle;\n",
       "    }\n",
       "\n",
       "    .dataframe tbody tr th {\n",
       "        vertical-align: top;\n",
       "    }\n",
       "\n",
       "    .dataframe thead th {\n",
       "        text-align: right;\n",
       "    }\n",
       "</style>\n",
       "<table border=\"1\" class=\"dataframe\">\n",
       "  <thead>\n",
       "    <tr style=\"text-align: right;\">\n",
       "      <th></th>\n",
       "      <th>age</th>\n",
       "      <th>hid</th>\n",
       "      <th>role</th>\n",
       "      <th>marital_status</th>\n",
       "      <th>driving_licence</th>\n",
       "      <th>employment</th>\n",
       "      <th>nbcars_agg</th>\n",
       "      <th>hsize</th>\n",
       "      <th>gender</th>\n",
       "      <th>htype</th>\n",
       "    </tr>\n",
       "  </thead>\n",
       "  <tbody>\n",
       "    <tr>\n",
       "      <th>mae</th>\n",
       "      <td>0.001729</td>\n",
       "      <td>0.000008</td>\n",
       "      <td>0.002125</td>\n",
       "      <td>0.004751</td>\n",
       "      <td>0.073620</td>\n",
       "      <td>0.012830</td>\n",
       "      <td>0.004607</td>\n",
       "      <td>0.005894</td>\n",
       "      <td>0.007617</td>\n",
       "      <td>0.015881</td>\n",
       "    </tr>\n",
       "    <tr>\n",
       "      <th>rmse</th>\n",
       "      <td>0.002254</td>\n",
       "      <td>0.000011</td>\n",
       "      <td>0.003762</td>\n",
       "      <td>0.005854</td>\n",
       "      <td>0.073620</td>\n",
       "      <td>0.014019</td>\n",
       "      <td>0.008002</td>\n",
       "      <td>0.010798</td>\n",
       "      <td>0.007617</td>\n",
       "      <td>0.020531</td>\n",
       "    </tr>\n",
       "    <tr>\n",
       "      <th>srmse</th>\n",
       "      <td>0.225368</td>\n",
       "      <td>0.799665</td>\n",
       "      <td>0.052668</td>\n",
       "      <td>0.023415</td>\n",
       "      <td>0.147239</td>\n",
       "      <td>0.070093</td>\n",
       "      <td>0.080022</td>\n",
       "      <td>0.140368</td>\n",
       "      <td>0.015234</td>\n",
       "      <td>0.102653</td>\n",
       "    </tr>\n",
       "    <tr>\n",
       "      <th>r2</th>\n",
       "      <td>0.734065</td>\n",
       "      <td>0.082767</td>\n",
       "      <td>0.999207</td>\n",
       "      <td>0.999063</td>\n",
       "      <td>0.848427</td>\n",
       "      <td>0.994361</td>\n",
       "      <td>0.997204</td>\n",
       "      <td>0.989174</td>\n",
       "      <td>-3.191574</td>\n",
       "      <td>0.979656</td>\n",
       "    </tr>\n",
       "    <tr>\n",
       "      <th>corr</th>\n",
       "      <td>0.870971</td>\n",
       "      <td>0.454439</td>\n",
       "      <td>0.999674</td>\n",
       "      <td>0.999687</td>\n",
       "      <td>1.000000</td>\n",
       "      <td>0.997529</td>\n",
       "      <td>0.998843</td>\n",
       "      <td>0.995024</td>\n",
       "      <td>1.000000</td>\n",
       "      <td>0.989855</td>\n",
       "    </tr>\n",
       "  </tbody>\n",
       "</table>\n",
       "</div>"
      ],
      "text/plain": [
       "            age       hid      role  marital_status  driving_licence  \\\n",
       "mae    0.001729  0.000008  0.002125        0.004751         0.073620   \n",
       "rmse   0.002254  0.000011  0.003762        0.005854         0.073620   \n",
       "srmse  0.225368  0.799665  0.052668        0.023415         0.147239   \n",
       "r2     0.734065  0.082767  0.999207        0.999063         0.848427   \n",
       "corr   0.870971  0.454439  0.999674        0.999687         1.000000   \n",
       "\n",
       "       employment  nbcars_agg     hsize    gender     htype  \n",
       "mae      0.012830    0.004607  0.005894  0.007617  0.015881  \n",
       "rmse     0.014019    0.008002  0.010798  0.007617  0.020531  \n",
       "srmse    0.070093    0.080022  0.140368  0.015234  0.102653  \n",
       "r2       0.994361    0.997204  0.989174 -3.191574  0.979656  \n",
       "corr     0.997529    0.998843  0.995024  1.000000  0.989855  "
      ]
     },
     "execution_count": 27,
     "metadata": {},
     "output_type": "execute_result"
    }
   ],
   "source": [
    "results = stats_assessment(reference_data_2015, predictive_sample_2010_2015, aggregation_level=1, ignore_cols=[\"nind\",\"age_discrete\"])\n",
    "df_results = pd.DataFrame(results)\n",
    "df_results"
   ]
  },
  {
   "cell_type": "markdown",
   "metadata": {},
   "source": [
    "## Bootstrap confidence interval for projection"
   ]
  },
  {
   "cell_type": "code",
   "execution_count": 28,
   "metadata": {},
   "outputs": [
    {
     "name": "stdout",
     "output_type": "stream",
     "text": [
      "Year 2010Year 2010\n",
      "\n",
      "Year 2011\n",
      "Year 2011\n",
      "Year 2012\n",
      "Year 2012\n",
      "Year 2013\n",
      "Year 2013\n",
      "Year 2014\n",
      "Year 2014\n",
      "Year 2015\n",
      "Year 2015\n"
     ]
    }
   ],
   "source": [
    "def get_predictive_stats(cols = [\"age_discrete\", \"employment\", \"gender\"]):\n",
    "    predictive_sample = predict_sample(synthetic_2010_with_age, t=6, year=2010)\n",
    "    results = stats_assessment(reference_data_2015, predictive_sample, aggregation_level=1, ignore_cols=[\"nind\",\"age_discrete\"])\n",
    "    df_results = pd.DataFrame(results)\n",
    "    agg_results = df_results.mean(axis=1)\n",
    "    n = predictive_sample.shape[0]\n",
    "    marginals = [(predictive_sample[col].value_counts() / n).sort_index() for col in cols]\n",
    "    return agg_results, marginals\n",
    "\n",
    "B = 2 #change to bigger number\n",
    "number_of_parallel_jobs = min(cpu_count(), B)\n",
    "\n",
    "bootstrap_stats, bootstrap_marginals = zip(\n",
    "    *Parallel(n_jobs=number_of_parallel_jobs, prefer='threads')(\n",
    "            delayed(get_predictive_stats)() for _ in range(B)\n",
    "        ))\n",
    "\n",
    "bootstrap_marginals = np.array(bootstrap_marginals)\n",
    "list_marginals = []\n",
    "for i in range(bootstrap_marginals.shape[1]):\n",
    "    list_marginals.append(pd.concat(bootstrap_marginals[:,i], axis=1))\n",
    "    \n",
    "bootstrap_stats = pd.DataFrame(bootstrap_stats)"
   ]
  },
  {
   "cell_type": "code",
   "execution_count": 29,
   "metadata": {},
   "outputs": [],
   "source": [
    "now = datetime.now().strftime(\"%Y_%m_%d_%H_%M_%S\")\n",
    "os.mkdir(\"results/\"+ now)\n",
    "\n",
    "# Store list_marginals in a file\n",
    "with open(\"results/\"+ now + \"/list_marginals.pkl\", \"wb\") as f:\n",
    "    pickle.dump(list_marginals, f)\n",
    "\n",
    "# Store bootstrap_stats in a csv\n",
    "bootstrap_stats.to_csv(\"results/\"+ now + \"/bootstrap_stats.csv\")"
   ]
  },
  {
   "cell_type": "code",
   "execution_count": 30,
   "metadata": {},
   "outputs": [],
   "source": [
    "def plot_marginals_bootstrap(original_data, bootstrap_marginals, cols, labels_name, labels=[\"Original\", \"Synthetic\"]):\n",
    "    \"\"\"\n",
    "    Plots the marginals of the original data and the bootstrap samples\n",
    "\n",
    "    Parameters\n",
    "    ----------\n",
    "    original_data : pd.DataFrame\n",
    "        The original data\n",
    "    bootstrap_marginals : list of pd.DataFrame\n",
    "        The marginals of the bootstrap samples\n",
    "    cols : list of str\n",
    "        The columns to plot\n",
    "    labels_name : list of str\n",
    "        The labels of the columns\n",
    "    labels : list of str, optional\n",
    "        The labels of the plots. The default is [\"Original\", \"Synthetic\"].\n",
    "\n",
    "    Returns\n",
    "    -------\n",
    "    Plot of the marginals with the bootstrap samples\n",
    "    \"\"\"\n",
    "\n",
    "    fig,ax = plt.subplots(1, len(cols), figsize=(15,3))\n",
    "\n",
    "    for i_col, col in enumerate(cols):\n",
    "\n",
    "        orig_marg =(original_data[col].value_counts()/len(original_data)).sort_index()\n",
    "        bs_col=bootstrap_marginals[i_col].sort_index()\n",
    "        bs_marg_mean = bs_col.mean(axis=1)\n",
    "        bs_probs = bs_col.quantile([0.025, 0.975], axis=1)\n",
    "        bs_probs = bs_probs.T\n",
    "        bs_probs.columns = ['lower', 'upper']\n",
    "        bs_probs['lower'] = bs_marg_mean - bs_probs['lower']\n",
    "        bs_probs['upper'] = bs_probs['upper'] - bs_marg_mean\n",
    "        bs_probs = bs_probs[['lower', 'upper']].values.T\n",
    "\n",
    "        tmp_df = pd.DataFrame({\"Original\": orig_marg, \"Bootstrap\": bs_marg_mean})\n",
    "        tmp_df.plot(ax = ax[i_col], figsize=(4,4), kind='bar', color=['black', 'darkgray'], yerr=[np.zeros_like(bs_probs), bs_probs], rot= 45)\n",
    "        \n",
    "        ax[i_col].set_xticklabels(labels_name[i_col])\n",
    "        ax[i_col].set_title(col)\n",
    "        ax[i_col].set_ylabel(\"Frequency\")\n",
    "        ax[i_col].set_xlabel(\"\")\n",
    "        ax[i_col].set_title(col)\n",
    "\n",
    "        # Remove legend\n",
    "        ax[i_col].legend().set_visible(False)\n",
    "\n",
    "    ax[i_col].legend(labels)\n",
    "    fig.suptitle(f'Marginal distributions')\n",
    "    fig.show()\n",
    "\n",
    "    # Figsize is overriden by the figsize of the subplots\n",
    "    fig.set_size_inches(15,4)\n",
    "\n",
    "    return fig"
   ]
  },
  {
   "cell_type": "code",
   "execution_count": 31,
   "metadata": {},
   "outputs": [
    {
     "data": {
      "image/png": "[encoded data removed]",
      "text/plain": [
       "<Figure size 1080x288 with 3 Axes>"
      ]
     },
     "metadata": {
      "needs_background": "light"
     },
     "output_type": "display_data"
    }
   ],
   "source": [
    "fig = plot_marginals_bootstrap(reference_data_2015, list_marginals, cols_1, labels_name_1, labels = [\"Reference 2015\", \"Bootstrap 2015\"])\n",
    "fig.savefig(\"results/\" + now + \"/marginals_bootstrap_2015.png\", dpi=300)"
   ]
  },
  {
   "cell_type": "code",
   "execution_count": 32,
   "metadata": {},
   "outputs": [],
   "source": [
    "# Compute the mean and the confidence interval\n",
    "bootstrap_stats_final = bootstrap_stats.T\n",
    "bootstrap_stats_mean = bootstrap_stats_final.mean(axis=1)\n",
    "bootstrap_stats_error = bootstrap_stats_final.quantile([0.025, 0.975], axis=1)\n",
    "bootstrap_stats_error = bootstrap_stats_error.T\n",
    "bootstrap_stats_error.columns = ['lower', 'upper']\n",
    "bootstrap_stats_error['lower'] = bootstrap_stats_mean - bootstrap_stats_error['lower']\n",
    "bootstrap_stats_error['upper'] = bootstrap_stats_error['upper'] - bootstrap_stats_mean\n",
    "bootstrap_stats_error = bootstrap_stats_error[['lower', 'upper']].values.T"
   ]
  },
  {
   "cell_type": "code",
   "execution_count": 34,
   "metadata": {},
   "outputs": [
    {
     "data": {
      "application/vnd.plotly.v1+json": {
       "config": {
        "plotlyServerURL": "https://plot.ly"
       },
       "data": [
        {
         "boxpoints": "all",
         "name": "mae",
         "type": "box",
         "xaxis": "x",
         "y": [
          0.012766416903250232,
          0.012693211894013507
         ],
         "yaxis": "y"
        },
        {
         "boxpoints": "all",
         "name": "rmse",
         "type": "box",
         "xaxis": "x2",
         "y": [
          0.014297396885910623,
          0.01412600333112796
         ],
         "yaxis": "y2"
        },
        {
         "boxpoints": "all",
         "name": "srmse",
         "type": "box",
         "xaxis": "x3",
         "y": [
          0.1614422311901532,
          0.15945321714683425
         ],
         "yaxis": "y3"
        },
        {
         "boxpoints": "all",
         "name": "r2",
         "type": "box",
         "xaxis": "x4",
         "y": [
          0.3606945939360193,
          0.4096014149702104
         ],
         "yaxis": "y4"
        },
        {
         "boxpoints": "all",
         "name": "corr",
         "type": "box",
         "xaxis": "x5",
         "y": [
          0.9308755251322782,
          0.9311385597415386
         ],
         "yaxis": "y5"
        }
       ],
       "layout": {
        "annotations": [
         {
          "font": {
           "size": 16
          },
          "showarrow": false,
          "text": "mae",
          "x": 0.08399999999999999,
          "xanchor": "center",
          "xref": "paper",
          "y": 1,
          "yanchor": "bottom",
          "yref": "paper"
         },
         {
          "font": {
           "size": 16
          },
          "showarrow": false,
          "text": "rmse",
          "x": 0.292,
          "xanchor": "center",
          "xref": "paper",
          "y": 1,
          "yanchor": "bottom",
          "yref": "paper"
         },
         {
          "font": {
           "size": 16
          },
          "showarrow": false,
          "text": "srmse",
          "x": 0.5,
          "xanchor": "center",
          "xref": "paper",
          "y": 1,
          "yanchor": "bottom",
          "yref": "paper"
         },
         {
          "font": {
           "size": 16
          },
          "showarrow": false,
          "text": "r2",
          "x": 0.708,
          "xanchor": "center",
          "xref": "paper",
          "y": 1,
          "yanchor": "bottom",
          "yref": "paper"
         },
         {
          "font": {
           "size": 16
          },
          "showarrow": false,
          "text": "corr",
          "x": 0.9159999999999999,
          "xanchor": "center",
          "xref": "paper",
          "y": 1,
          "yanchor": "bottom",
          "yref": "paper"
         },
         {
          "font": {
           "size": 16
          },
          "showarrow": false,
          "text": "Value",
          "x": 0.5,
          "xanchor": "center",
          "xref": "paper",
          "y": 0,
          "yanchor": "top",
          "yref": "paper",
          "yshift": -30
         },
         {
          "font": {
           "size": 16
          },
          "showarrow": false,
          "text": "Stat",
          "textangle": -90,
          "x": 0,
          "xanchor": "right",
          "xref": "paper",
          "xshift": -40,
          "y": 0.5,
          "yanchor": "middle",
          "yref": "paper"
         }
        ],
        "height": 600,
        "template": {
         "data": {
          "bar": [
           {
            "error_x": {
             "color": "#2a3f5f"
            },
            "error_y": {
             "color": "#2a3f5f"
            },
            "marker": {
             "line": {
              "color": "#E5ECF6",
              "width": 0.5
             }
            },
            "type": "bar"
           }
          ],
          "barpolar": [
           {
            "marker": {
             "line": {
              "color": "#E5ECF6",
              "width": 0.5
             }
            },
            "type": "barpolar"
           }
          ],
          "carpet": [
           {
            "aaxis": {
             "endlinecolor": "#2a3f5f",
             "gridcolor": "white",
             "linecolor": "white",
             "minorgridcolor": "white",
             "startlinecolor": "#2a3f5f"
            },
            "baxis": {
             "endlinecolor": "#2a3f5f",
             "gridcolor": "white",
             "linecolor": "white",
             "minorgridcolor": "white",
             "startlinecolor": "#2a3f5f"
            },
            "type": "carpet"
           }
          ],
          "choropleth": [
           {
            "colorbar": {
             "outlinewidth": 0,
             "ticks": ""
            },
            "type": "choropleth"
           }
          ],
          "contour": [
           {
            "colorbar": {
             "outlinewidth": 0,
             "ticks": ""
            },
            "colorscale": [
             [
              0,
              "#0d0887"
             ],
             [
              0.1111111111111111,
              "#46039f"
             ],
             [
              0.2222222222222222,
              "#7201a8"
             ],
             [
              0.3333333333333333,
              "#9c179e"
             ],
             [
              0.4444444444444444,
              "#bd3786"
             ],
             [
              0.5555555555555556,
              "#d8576b"
             ],
             [
              0.6666666666666666,
              "#ed7953"
             ],
             [
              0.7777777777777778,
              "#fb9f3a"
             ],
             [
              0.8888888888888888,
              "#fdca26"
             ],
             [
              1,
              "#f0f921"
             ]
            ],
            "type": "contour"
           }
          ],
          "contourcarpet": [
           {
            "colorbar": {
             "outlinewidth": 0,
             "ticks": ""
            },
            "type": "contourcarpet"
           }
          ],
          "heatmap": [
           {
            "colorbar": {
             "outlinewidth": 0,
             "ticks": ""
            },
            "colorscale": [
             [
              0,
              "#0d0887"
             ],
             [
              0.1111111111111111,
              "#46039f"
             ],
             [
              0.2222222222222222,
              "#7201a8"
             ],
             [
              0.3333333333333333,
              "#9c179e"
             ],
             [
              0.4444444444444444,
              "#bd3786"
             ],
             [
              0.5555555555555556,
              "#d8576b"
             ],
             [
              0.6666666666666666,
              "#ed7953"
             ],
             [
              0.7777777777777778,
              "#fb9f3a"
             ],
             [
              0.8888888888888888,
              "#fdca26"
             ],
             [
              1,
              "#f0f921"
             ]
            ],
            "type": "heatmap"
           }
          ],
          "heatmapgl": [
           {
            "colorbar": {
             "outlinewidth": 0,
             "ticks": ""
            },
            "colorscale": [
             [
              0,
              "#0d0887"
             ],
             [
              0.1111111111111111,
              "#46039f"
             ],
             [
              0.2222222222222222,
              "#7201a8"
             ],
             [
              0.3333333333333333,
              "#9c179e"
             ],
             [
              0.4444444444444444,
              "#bd3786"
             ],
             [
              0.5555555555555556,
              "#d8576b"
             ],
             [
              0.6666666666666666,
              "#ed7953"
             ],
             [
              0.7777777777777778,
              "#fb9f3a"
             ],
             [
              0.8888888888888888,
              "#fdca26"
             ],
             [
              1,
              "#f0f921"
             ]
            ],
            "type": "heatmapgl"
           }
          ],
          "histogram": [
           {
            "marker": {
             "colorbar": {
              "outlinewidth": 0,
              "ticks": ""
             }
            },
            "type": "histogram"
           }
          ],
          "histogram2d": [
           {
            "colorbar": {
             "outlinewidth": 0,
             "ticks": ""
            },
            "colorscale": [
             [
              0,
              "#0d0887"
             ],
             [
              0.1111111111111111,
              "#46039f"
             ],
             [
              0.2222222222222222,
              "#7201a8"
             ],
             [
              0.3333333333333333,
              "#9c179e"
             ],
             [
              0.4444444444444444,
              "#bd3786"
             ],
             [
              0.5555555555555556,
              "#d8576b"
             ],
             [
              0.6666666666666666,
              "#ed7953"
             ],
             [
              0.7777777777777778,
              "#fb9f3a"
             ],
             [
              0.8888888888888888,
              "#fdca26"
             ],
             [
              1,
              "#f0f921"
             ]
            ],
            "type": "histogram2d"
           }
          ],
          "histogram2dcontour": [
           {
            "colorbar": {
             "outlinewidth": 0,
             "ticks": ""
            },
            "colorscale": [
             [
              0,
              "#0d0887"
             ],
             [
              0.1111111111111111,
              "#46039f"
             ],
             [
              0.2222222222222222,
              "#7201a8"
             ],
             [
              0.3333333333333333,
              "#9c179e"
             ],
             [
              0.4444444444444444,
              "#bd3786"
             ],
             [
              0.5555555555555556,
              "#d8576b"
             ],
             [
              0.6666666666666666,
              "#ed7953"
             ],
             [
              0.7777777777777778,
              "#fb9f3a"
             ],
             [
              0.8888888888888888,
              "#fdca26"
             ],
             [
              1,
              "#f0f921"
             ]
            ],
            "type": "histogram2dcontour"
           }
          ],
          "mesh3d": [
           {
            "colorbar": {
             "outlinewidth": 0,
             "ticks": ""
            },
            "type": "mesh3d"
           }
          ],
          "parcoords": [
           {
            "line": {
             "colorbar": {
              "outlinewidth": 0,
              "ticks": ""
             }
            },
            "type": "parcoords"
           }
          ],
          "pie": [
           {
            "automargin": true,
            "type": "pie"
           }
          ],
          "scatter": [
           {
            "marker": {
             "colorbar": {
              "outlinewidth": 0,
              "ticks": ""
             }
            },
            "type": "scatter"
           }
          ],
          "scatter3d": [
           {
            "line": {
             "colorbar": {
              "outlinewidth": 0,
              "ticks": ""
             }
            },
            "marker": {
             "colorbar": {
              "outlinewidth": 0,
              "ticks": ""
             }
            },
            "type": "scatter3d"
           }
          ],
          "scattercarpet": [
           {
            "marker": {
             "colorbar": {
              "outlinewidth": 0,
              "ticks": ""
             }
            },
            "type": "scattercarpet"
           }
          ],
          "scattergeo": [
           {
            "marker": {
             "colorbar": {
              "outlinewidth": 0,
              "ticks": ""
             }
            },
            "type": "scattergeo"
           }
          ],
          "scattergl": [
           {
            "marker": {
             "colorbar": {
              "outlinewidth": 0,
              "ticks": ""
             }
            },
            "type": "scattergl"
           }
          ],
          "scattermapbox": [
           {
            "marker": {
             "colorbar": {
              "outlinewidth": 0,
              "ticks": ""
             }
            },
            "type": "scattermapbox"
           }
          ],
          "scatterpolar": [
           {
            "marker": {
             "colorbar": {
              "outlinewidth": 0,
              "ticks": ""
             }
            },
            "type": "scatterpolar"
           }
          ],
          "scatterpolargl": [
           {
            "marker": {
             "colorbar": {
              "outlinewidth": 0,
              "ticks": ""
             }
            },
            "type": "scatterpolargl"
           }
          ],
          "scatterternary": [
           {
            "marker": {
             "colorbar": {
              "outlinewidth": 0,
              "ticks": ""
             }
            },
            "type": "scatterternary"
           }
          ],
          "surface": [
           {
            "colorbar": {
             "outlinewidth": 0,
             "ticks": ""
            },
            "colorscale": [
             [
              0,
              "#0d0887"
             ],
             [
              0.1111111111111111,
              "#46039f"
             ],
             [
              0.2222222222222222,
              "#7201a8"
             ],
             [
              0.3333333333333333,
              "#9c179e"
             ],
             [
              0.4444444444444444,
              "#bd3786"
             ],
             [
              0.5555555555555556,
              "#d8576b"
             ],
             [
              0.6666666666666666,
              "#ed7953"
             ],
             [
              0.7777777777777778,
              "#fb9f3a"
             ],
             [
              0.8888888888888888,
              "#fdca26"
             ],
             [
              1,
              "#f0f921"
             ]
            ],
            "type": "surface"
           }
          ],
          "table": [
           {
            "cells": {
             "fill": {
              "color": "#EBF0F8"
             },
             "line": {
              "color": "white"
             }
            },
            "header": {
             "fill": {
              "color": "#C8D4E3"
             },
             "line": {
              "color": "white"
             }
            },
            "type": "table"
           }
          ]
         },
         "layout": {
          "annotationdefaults": {
           "arrowcolor": "#2a3f5f",
           "arrowhead": 0,
           "arrowwidth": 1
          },
          "autotypenumbers": "strict",
          "coloraxis": {
           "colorbar": {
            "outlinewidth": 0,
            "ticks": ""
           }
          },
          "colorscale": {
           "diverging": [
            [
             0,
             "#8e0152"
            ],
            [
             0.1,
             "#c51b7d"
            ],
            [
             0.2,
             "#de77ae"
            ],
            [
             0.3,
             "#f1b6da"
            ],
            [
             0.4,
             "#fde0ef"
            ],
            [
             0.5,
             "#f7f7f7"
            ],
            [
             0.6,
             "#e6f5d0"
            ],
            [
             0.7,
             "#b8e186"
            ],
            [
             0.8,
             "#7fbc41"
            ],
            [
             0.9,
             "#4d9221"
            ],
            [
             1,
             "#276419"
            ]
           ],
           "sequential": [
            [
             0,
             "#0d0887"
            ],
            [
             0.1111111111111111,
             "#46039f"
            ],
            [
             0.2222222222222222,
             "#7201a8"
            ],
            [
             0.3333333333333333,
             "#9c179e"
            ],
            [
             0.4444444444444444,
             "#bd3786"
            ],
            [
             0.5555555555555556,
             "#d8576b"
            ],
            [
             0.6666666666666666,
             "#ed7953"
            ],
            [
             0.7777777777777778,
             "#fb9f3a"
            ],
            [
             0.8888888888888888,
             "#fdca26"
            ],
            [
             1,
             "#f0f921"
            ]
           ],
           "sequentialminus": [
            [
             0,
             "#0d0887"
            ],
            [
             0.1111111111111111,
             "#46039f"
            ],
            [
             0.2222222222222222,
             "#7201a8"
            ],
            [
             0.3333333333333333,
             "#9c179e"
            ],
            [
             0.4444444444444444,
             "#bd3786"
            ],
            [
             0.5555555555555556,
             "#d8576b"
            ],
            [
             0.6666666666666666,
             "#ed7953"
            ],
            [
             0.7777777777777778,
             "#fb9f3a"
            ],
            [
             0.8888888888888888,
             "#fdca26"
            ],
            [
             1,
             "#f0f921"
            ]
           ]
          },
          "colorway": [
           "#636efa",
           "#EF553B",
           "#00cc96",
           "#ab63fa",
           "#FFA15A",
           "#19d3f3",
           "#FF6692",
           "#B6E880",
           "#FF97FF",
           "#FECB52"
          ],
          "font": {
           "color": "#2a3f5f"
          },
          "geo": {
           "bgcolor": "white",
           "lakecolor": "white",
           "landcolor": "#E5ECF6",
           "showlakes": true,
           "showland": true,
           "subunitcolor": "white"
          },
          "hoverlabel": {
           "align": "left"
          },
          "hovermode": "closest",
          "mapbox": {
           "style": "light"
          },
          "paper_bgcolor": "white",
          "plot_bgcolor": "#E5ECF6",
          "polar": {
           "angularaxis": {
            "gridcolor": "white",
            "linecolor": "white",
            "ticks": ""
           },
           "bgcolor": "#E5ECF6",
           "radialaxis": {
            "gridcolor": "white",
            "linecolor": "white",
            "ticks": ""
           }
          },
          "scene": {
           "xaxis": {
            "backgroundcolor": "#E5ECF6",
            "gridcolor": "white",
            "gridwidth": 2,
            "linecolor": "white",
            "showbackground": true,
            "ticks": "",
            "zerolinecolor": "white"
           },
           "yaxis": {
            "backgroundcolor": "#E5ECF6",
            "gridcolor": "white",
            "gridwidth": 2,
            "linecolor": "white",
            "showbackground": true,
            "ticks": "",
            "zerolinecolor": "white"
           },
           "zaxis": {
            "backgroundcolor": "#E5ECF6",
            "gridcolor": "white",
            "gridwidth": 2,
            "linecolor": "white",
            "showbackground": true,
            "ticks": "",
            "zerolinecolor": "white"
           }
          },
          "shapedefaults": {
           "line": {
            "color": "#2a3f5f"
           }
          },
          "ternary": {
           "aaxis": {
            "gridcolor": "white",
            "linecolor": "white",
            "ticks": ""
           },
           "baxis": {
            "gridcolor": "white",
            "linecolor": "white",
            "ticks": ""
           },
           "bgcolor": "#E5ECF6",
           "caxis": {
            "gridcolor": "white",
            "linecolor": "white",
            "ticks": ""
           }
          },
          "title": {
           "x": 0.05
          },
          "xaxis": {
           "automargin": true,
           "gridcolor": "white",
           "linecolor": "white",
           "ticks": "",
           "title": {
            "standoff": 15
           },
           "zerolinecolor": "white",
           "zerolinewidth": 2
          },
          "yaxis": {
           "automargin": true,
           "gridcolor": "white",
           "linecolor": "white",
           "ticks": "",
           "title": {
            "standoff": 15
           },
           "zerolinecolor": "white",
           "zerolinewidth": 2
          }
         }
        },
        "title": {
         "text": "Synthetic data stats"
        },
        "width": 1200,
        "xaxis": {
         "anchor": "y",
         "domain": [
          0,
          0.16799999999999998
         ]
        },
        "xaxis2": {
         "anchor": "y2",
         "domain": [
          0.208,
          0.376
         ]
        },
        "xaxis3": {
         "anchor": "y3",
         "domain": [
          0.416,
          0.584
         ]
        },
        "xaxis4": {
         "anchor": "y4",
         "domain": [
          0.624,
          0.792
         ]
        },
        "xaxis5": {
         "anchor": "y5",
         "domain": [
          0.832,
          1
         ]
        },
        "yaxis": {
         "anchor": "x",
         "domain": [
          0,
          1
         ]
        },
        "yaxis2": {
         "anchor": "x2",
         "domain": [
          0,
          1
         ]
        },
        "yaxis3": {
         "anchor": "x3",
         "domain": [
          0,
          1
         ]
        },
        "yaxis4": {
         "anchor": "x4",
         "domain": [
          0,
          1
         ]
        },
        "yaxis5": {
         "anchor": "x5",
         "domain": [
          0,
          1
         ]
        }
       }
      },
      "text/html": [
       "<div>                            <div id=\"41bb1167-5045-45db-842b-ff4ed5c69de4\" class=\"plotly-graph-div\" style=\"height:600px; width:1200px;\"></div>            <script type=\"text/javascript\">                require([\"plotly\"], function(Plotly) {                    window.PLOTLYENV=window.PLOTLYENV || {};                                    if (document.getElementById(\"41bb1167-5045-45db-842b-ff4ed5c69de4\")) {                    Plotly.newPlot(                        \"41bb1167-5045-45db-842b-ff4ed5c69de4\",                        [{\"boxpoints\": \"all\", \"name\": \"mae\", \"type\": \"box\", \"xaxis\": \"x\", \"y\": [0.012766416903250232, 0.012693211894013507], \"yaxis\": \"y\"}, {\"boxpoints\": \"all\", \"name\": \"rmse\", \"type\": \"box\", \"xaxis\": \"x2\", \"y\": [0.014297396885910623, 0.01412600333112796], \"yaxis\": \"y2\"}, {\"boxpoints\": \"all\", \"name\": \"srmse\", \"type\": \"box\", \"xaxis\": \"x3\", \"y\": [0.1614422311901532, 0.15945321714683425], \"yaxis\": \"y3\"}, {\"boxpoints\": \"all\", \"name\": \"r2\", \"type\": \"box\", \"xaxis\": \"x4\", \"y\": [0.3606945939360193, 0.4096014149702104], \"yaxis\": \"y4\"}, {\"boxpoints\": \"all\", \"name\": \"corr\", \"type\": \"box\", \"xaxis\": \"x5\", \"y\": [0.9308755251322782, 0.9311385597415386], \"yaxis\": \"y5\"}],                        {\"annotations\": [{\"font\": {\"size\": 16}, \"showarrow\": false, \"text\": \"mae\", \"x\": 0.08399999999999999, \"xanchor\": \"center\", \"xref\": \"paper\", \"y\": 1.0, \"yanchor\": \"bottom\", \"yref\": \"paper\"}, {\"font\": {\"size\": 16}, \"showarrow\": false, \"text\": \"rmse\", \"x\": 0.292, \"xanchor\": \"center\", \"xref\": \"paper\", \"y\": 1.0, \"yanchor\": \"bottom\", \"yref\": \"paper\"}, {\"font\": {\"size\": 16}, \"showarrow\": false, \"text\": \"srmse\", \"x\": 0.5, \"xanchor\": \"center\", \"xref\": \"paper\", \"y\": 1.0, \"yanchor\": \"bottom\", \"yref\": \"paper\"}, {\"font\": {\"size\": 16}, \"showarrow\": false, \"text\": \"r2\", \"x\": 0.708, \"xanchor\": \"center\", \"xref\": \"paper\", \"y\": 1.0, \"yanchor\": \"bottom\", \"yref\": \"paper\"}, {\"font\": {\"size\": 16}, \"showarrow\": false, \"text\": \"corr\", \"x\": 0.9159999999999999, \"xanchor\": \"center\", \"xref\": \"paper\", \"y\": 1.0, \"yanchor\": \"bottom\", \"yref\": \"paper\"}, {\"font\": {\"size\": 16}, \"showarrow\": false, \"text\": \"Value\", \"x\": 0.5, \"xanchor\": \"center\", \"xref\": \"paper\", \"y\": 0, \"yanchor\": \"top\", \"yref\": \"paper\", \"yshift\": -30}, {\"font\": {\"size\": 16}, \"showarrow\": false, \"text\": \"Stat\", \"textangle\": -90, \"x\": 0, \"xanchor\": \"right\", \"xref\": \"paper\", \"xshift\": -40, \"y\": 0.5, \"yanchor\": \"middle\", \"yref\": \"paper\"}], \"height\": 600, \"template\": {\"data\": {\"bar\": [{\"error_x\": {\"color\": \"#2a3f5f\"}, \"error_y\": {\"color\": \"#2a3f5f\"}, \"marker\": {\"line\": {\"color\": \"#E5ECF6\", \"width\": 0.5}}, \"type\": \"bar\"}], \"barpolar\": [{\"marker\": {\"line\": {\"color\": \"#E5ECF6\", \"width\": 0.5}}, \"type\": \"barpolar\"}], \"carpet\": [{\"aaxis\": {\"endlinecolor\": \"#2a3f5f\", \"gridcolor\": \"white\", \"linecolor\": \"white\", \"minorgridcolor\": \"white\", \"startlinecolor\": \"#2a3f5f\"}, \"baxis\": {\"endlinecolor\": \"#2a3f5f\", \"gridcolor\": \"white\", \"linecolor\": \"white\", \"minorgridcolor\": \"white\", \"startlinecolor\": \"#2a3f5f\"}, \"type\": \"carpet\"}], \"choropleth\": [{\"colorbar\": {\"outlinewidth\": 0, \"ticks\": \"\"}, \"type\": \"choropleth\"}], \"contour\": [{\"colorbar\": {\"outlinewidth\": 0, \"ticks\": \"\"}, \"colorscale\": [[0.0, \"#0d0887\"], [0.1111111111111111, \"#46039f\"], [0.2222222222222222, \"#7201a8\"], [0.3333333333333333, \"#9c179e\"], [0.4444444444444444, \"#bd3786\"], [0.5555555555555556, \"#d8576b\"], [0.6666666666666666, \"#ed7953\"], [0.7777777777777778, \"#fb9f3a\"], [0.8888888888888888, \"#fdca26\"], [1.0, \"#f0f921\"]], \"type\": \"contour\"}], \"contourcarpet\": [{\"colorbar\": {\"outlinewidth\": 0, \"ticks\": \"\"}, \"type\": \"contourcarpet\"}], \"heatmap\": [{\"colorbar\": {\"outlinewidth\": 0, \"ticks\": \"\"}, \"colorscale\": [[0.0, \"#0d0887\"], [0.1111111111111111, \"#46039f\"], [0.2222222222222222, \"#7201a8\"], [0.3333333333333333, \"#9c179e\"], [0.4444444444444444, \"#bd3786\"], [0.5555555555555556, \"#d8576b\"], [0.6666666666666666, \"#ed7953\"], [0.7777777777777778, \"#fb9f3a\"], [0.8888888888888888, \"#fdca26\"], [1.0, \"#f0f921\"]], \"type\": \"heatmap\"}], \"heatmapgl\": [{\"colorbar\": {\"outlinewidth\": 0, \"ticks\": \"\"}, \"colorscale\": [[0.0, \"#0d0887\"], [0.1111111111111111, \"#46039f\"], [0.2222222222222222, \"#7201a8\"], [0.3333333333333333, \"#9c179e\"], [0.4444444444444444, \"#bd3786\"], [0.5555555555555556, \"#d8576b\"], [0.6666666666666666, \"#ed7953\"], [0.7777777777777778, \"#fb9f3a\"], [0.8888888888888888, \"#fdca26\"], [1.0, \"#f0f921\"]], \"type\": \"heatmapgl\"}], \"histogram\": [{\"marker\": {\"colorbar\": {\"outlinewidth\": 0, \"ticks\": \"\"}}, \"type\": \"histogram\"}], \"histogram2d\": [{\"colorbar\": {\"outlinewidth\": 0, \"ticks\": \"\"}, \"colorscale\": [[0.0, \"#0d0887\"], [0.1111111111111111, \"#46039f\"], [0.2222222222222222, \"#7201a8\"], [0.3333333333333333, \"#9c179e\"], [0.4444444444444444, \"#bd3786\"], [0.5555555555555556, \"#d8576b\"], [0.6666666666666666, \"#ed7953\"], [0.7777777777777778, \"#fb9f3a\"], [0.8888888888888888, \"#fdca26\"], [1.0, \"#f0f921\"]], \"type\": \"histogram2d\"}], \"histogram2dcontour\": [{\"colorbar\": {\"outlinewidth\": 0, \"ticks\": \"\"}, \"colorscale\": [[0.0, \"#0d0887\"], [0.1111111111111111, \"#46039f\"], [0.2222222222222222, \"#7201a8\"], [0.3333333333333333, \"#9c179e\"], [0.4444444444444444, \"#bd3786\"], [0.5555555555555556, \"#d8576b\"], [0.6666666666666666, \"#ed7953\"], [0.7777777777777778, \"#fb9f3a\"], [0.8888888888888888, \"#fdca26\"], [1.0, \"#f0f921\"]], \"type\": \"histogram2dcontour\"}], \"mesh3d\": [{\"colorbar\": {\"outlinewidth\": 0, \"ticks\": \"\"}, \"type\": \"mesh3d\"}], \"parcoords\": [{\"line\": {\"colorbar\": {\"outlinewidth\": 0, \"ticks\": \"\"}}, \"type\": \"parcoords\"}], \"pie\": [{\"automargin\": true, \"type\": \"pie\"}], \"scatter\": [{\"marker\": {\"colorbar\": {\"outlinewidth\": 0, \"ticks\": \"\"}}, \"type\": \"scatter\"}], \"scatter3d\": [{\"line\": {\"colorbar\": {\"outlinewidth\": 0, \"ticks\": \"\"}}, \"marker\": {\"colorbar\": {\"outlinewidth\": 0, \"ticks\": \"\"}}, \"type\": \"scatter3d\"}], \"scattercarpet\": [{\"marker\": {\"colorbar\": {\"outlinewidth\": 0, \"ticks\": \"\"}}, \"type\": \"scattercarpet\"}], \"scattergeo\": [{\"marker\": {\"colorbar\": {\"outlinewidth\": 0, \"ticks\": \"\"}}, \"type\": \"scattergeo\"}], \"scattergl\": [{\"marker\": {\"colorbar\": {\"outlinewidth\": 0, \"ticks\": \"\"}}, \"type\": \"scattergl\"}], \"scattermapbox\": [{\"marker\": {\"colorbar\": {\"outlinewidth\": 0, \"ticks\": \"\"}}, \"type\": \"scattermapbox\"}], \"scatterpolar\": [{\"marker\": {\"colorbar\": {\"outlinewidth\": 0, \"ticks\": \"\"}}, \"type\": \"scatterpolar\"}], \"scatterpolargl\": [{\"marker\": {\"colorbar\": {\"outlinewidth\": 0, \"ticks\": \"\"}}, \"type\": \"scatterpolargl\"}], \"scatterternary\": [{\"marker\": {\"colorbar\": {\"outlinewidth\": 0, \"ticks\": \"\"}}, \"type\": \"scatterternary\"}], \"surface\": [{\"colorbar\": {\"outlinewidth\": 0, \"ticks\": \"\"}, \"colorscale\": [[0.0, \"#0d0887\"], [0.1111111111111111, \"#46039f\"], [0.2222222222222222, \"#7201a8\"], [0.3333333333333333, \"#9c179e\"], [0.4444444444444444, \"#bd3786\"], [0.5555555555555556, \"#d8576b\"], [0.6666666666666666, \"#ed7953\"], [0.7777777777777778, \"#fb9f3a\"], [0.8888888888888888, \"#fdca26\"], [1.0, \"#f0f921\"]], \"type\": \"surface\"}], \"table\": [{\"cells\": {\"fill\": {\"color\": \"#EBF0F8\"}, \"line\": {\"color\": \"white\"}}, \"header\": {\"fill\": {\"color\": \"#C8D4E3\"}, \"line\": {\"color\": \"white\"}}, \"type\": \"table\"}]}, \"layout\": {\"annotationdefaults\": {\"arrowcolor\": \"#2a3f5f\", \"arrowhead\": 0, \"arrowwidth\": 1}, \"autotypenumbers\": \"strict\", \"coloraxis\": {\"colorbar\": {\"outlinewidth\": 0, \"ticks\": \"\"}}, \"colorscale\": {\"diverging\": [[0, \"#8e0152\"], [0.1, \"#c51b7d\"], [0.2, \"#de77ae\"], [0.3, \"#f1b6da\"], [0.4, \"#fde0ef\"], [0.5, \"#f7f7f7\"], [0.6, \"#e6f5d0\"], [0.7, \"#b8e186\"], [0.8, \"#7fbc41\"], [0.9, \"#4d9221\"], [1, \"#276419\"]], \"sequential\": [[0.0, \"#0d0887\"], [0.1111111111111111, \"#46039f\"], [0.2222222222222222, \"#7201a8\"], [0.3333333333333333, \"#9c179e\"], [0.4444444444444444, \"#bd3786\"], [0.5555555555555556, \"#d8576b\"], [0.6666666666666666, \"#ed7953\"], [0.7777777777777778, \"#fb9f3a\"], [0.8888888888888888, \"#fdca26\"], [1.0, \"#f0f921\"]], \"sequentialminus\": [[0.0, \"#0d0887\"], [0.1111111111111111, \"#46039f\"], [0.2222222222222222, \"#7201a8\"], [0.3333333333333333, \"#9c179e\"], [0.4444444444444444, \"#bd3786\"], [0.5555555555555556, \"#d8576b\"], [0.6666666666666666, \"#ed7953\"], [0.7777777777777778, \"#fb9f3a\"], [0.8888888888888888, \"#fdca26\"], [1.0, \"#f0f921\"]]}, \"colorway\": [\"#636efa\", \"#EF553B\", \"#00cc96\", \"#ab63fa\", \"#FFA15A\", \"#19d3f3\", \"#FF6692\", \"#B6E880\", \"#FF97FF\", \"#FECB52\"], \"font\": {\"color\": \"#2a3f5f\"}, \"geo\": {\"bgcolor\": \"white\", \"lakecolor\": \"white\", \"landcolor\": \"#E5ECF6\", \"showlakes\": true, \"showland\": true, \"subunitcolor\": \"white\"}, \"hoverlabel\": {\"align\": \"left\"}, \"hovermode\": \"closest\", \"mapbox\": {\"style\": \"light\"}, \"paper_bgcolor\": \"white\", \"plot_bgcolor\": \"#E5ECF6\", \"polar\": {\"angularaxis\": {\"gridcolor\": \"white\", \"linecolor\": \"white\", \"ticks\": \"\"}, \"bgcolor\": \"#E5ECF6\", \"radialaxis\": {\"gridcolor\": \"white\", \"linecolor\": \"white\", \"ticks\": \"\"}}, \"scene\": {\"xaxis\": {\"backgroundcolor\": \"#E5ECF6\", \"gridcolor\": \"white\", \"gridwidth\": 2, \"linecolor\": \"white\", \"showbackground\": true, \"ticks\": \"\", \"zerolinecolor\": \"white\"}, \"yaxis\": {\"backgroundcolor\": \"#E5ECF6\", \"gridcolor\": \"white\", \"gridwidth\": 2, \"linecolor\": \"white\", \"showbackground\": true, \"ticks\": \"\", \"zerolinecolor\": \"white\"}, \"zaxis\": {\"backgroundcolor\": \"#E5ECF6\", \"gridcolor\": \"white\", \"gridwidth\": 2, \"linecolor\": \"white\", \"showbackground\": true, \"ticks\": \"\", \"zerolinecolor\": \"white\"}}, \"shapedefaults\": {\"line\": {\"color\": \"#2a3f5f\"}}, \"ternary\": {\"aaxis\": {\"gridcolor\": \"white\", \"linecolor\": \"white\", \"ticks\": \"\"}, \"baxis\": {\"gridcolor\": \"white\", \"linecolor\": \"white\", \"ticks\": \"\"}, \"bgcolor\": \"#E5ECF6\", \"caxis\": {\"gridcolor\": \"white\", \"linecolor\": \"white\", \"ticks\": \"\"}}, \"title\": {\"x\": 0.05}, \"xaxis\": {\"automargin\": true, \"gridcolor\": \"white\", \"linecolor\": \"white\", \"ticks\": \"\", \"title\": {\"standoff\": 15}, \"zerolinecolor\": \"white\", \"zerolinewidth\": 2}, \"yaxis\": {\"automargin\": true, \"gridcolor\": \"white\", \"linecolor\": \"white\", \"ticks\": \"\", \"title\": {\"standoff\": 15}, \"zerolinecolor\": \"white\", \"zerolinewidth\": 2}}}, \"title\": {\"text\": \"Synthetic data stats\"}, \"width\": 1200, \"xaxis\": {\"anchor\": \"y\", \"domain\": [0.0, 0.16799999999999998]}, \"xaxis2\": {\"anchor\": \"y2\", \"domain\": [0.208, 0.376]}, \"xaxis3\": {\"anchor\": \"y3\", \"domain\": [0.416, 0.584]}, \"xaxis4\": {\"anchor\": \"y4\", \"domain\": [0.624, 0.792]}, \"xaxis5\": {\"anchor\": \"y5\", \"domain\": [0.832, 1.0]}, \"yaxis\": {\"anchor\": \"x\", \"domain\": [0.0, 1.0]}, \"yaxis2\": {\"anchor\": \"x2\", \"domain\": [0.0, 1.0]}, \"yaxis3\": {\"anchor\": \"x3\", \"domain\": [0.0, 1.0]}, \"yaxis4\": {\"anchor\": \"x4\", \"domain\": [0.0, 1.0]}, \"yaxis5\": {\"anchor\": \"x5\", \"domain\": [0.0, 1.0]}},                        {\"responsive\": true}                    ).then(function(){\n",
       "                            \n",
       "var gd = document.getElementById('41bb1167-5045-45db-842b-ff4ed5c69de4');\n",
       "var x = new MutationObserver(function (mutations, observer) {{\n",
       "        var display = window.getComputedStyle(gd).display;\n",
       "        if (!display || display === 'none') {{\n",
       "            console.log([gd, 'removed!']);\n",
       "            Plotly.purge(gd);\n",
       "            observer.disconnect();\n",
       "        }}\n",
       "}});\n",
       "\n",
       "// Listen for the removal of the full notebook cells\n",
       "var notebookContainer = gd.closest('#notebook-container');\n",
       "if (notebookContainer) {{\n",
       "    x.observe(notebookContainer, {childList: true});\n",
       "}}\n",
       "\n",
       "// Listen for the clearing of the current output cell\n",
       "var outputEl = gd.closest('.output');\n",
       "if (outputEl) {{\n",
       "    x.observe(outputEl, {childList: true});\n",
       "}}\n",
       "\n",
       "                        })                };                });            </script>        </div>"
      ]
     },
     "metadata": {},
     "output_type": "display_data"
    }
   ],
   "source": [
    "# Boxplot of the stats separated by columns in subplots\n",
    "fig = make_subplots(rows=1, cols=len(bootstrap_stats_final), subplot_titles = bootstrap_stats_final.index, x_title=\"Value\", y_title=\"Stat\")\n",
    "for i, stat in enumerate(bootstrap_stats_mean.index):\n",
    "    fig.add_trace(go.Box(y=bootstrap_stats_final.loc[stat,:],boxpoints='all', name=stat), row = 1, col= i+1)\n",
    "fig.update_layout(\n",
    "    title=\"Synthetic data stats\",\n",
    "    width=1200,\n",
    "    height=600,\n",
    ")\n",
    "fig.show()"
   ]
  }
 ],
 "metadata": {
  "kernelspec": {
   "display_name": "Python 3 (ipykernel)",
   "language": "python",
   "name": "python3"
  },
  "language_info": {
   "codemirror_mode": {
    "name": "ipython",
    "version": 3
   },
   "file_extension": ".py",
   "mimetype": "text/x-python",
   "name": "python",
   "nbconvert_exporter": "python",
   "pygments_lexer": "ipython3",
   "version": "3.8.5"
  }
 },
 "nbformat": 4,
 "nbformat_minor": 2
}
